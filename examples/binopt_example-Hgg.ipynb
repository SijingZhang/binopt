{
 "cells": [
  {
   "cell_type": "code",
   "execution_count": 6,
   "metadata": {},
   "outputs": [],
   "source": [
    "import matplotlib.pyplot as plt\n",
    "import numpy  as np\n",
    "import pandas as pd\n",
    "from scipy import optimize\n",
    "%matplotlib inline\n",
    "plt.style.use('physics')\n",
    "\n",
    "plt.rcParams['axes.grid'       ]  = False\n",
    "plt.rcParams['xtick.labelsize' ]  = 14\n",
    "plt.rcParams['ytick.labelsize' ]  = 14\n",
    "plt.rcParams['axes.labelsize'  ]  = 14\n",
    "plt.rcParams['legend.fancybox' ]  = False\n",
    "\n",
    "pd.options.mode.chained_assignment = None\n",
    "\n",
    "import binopt\n",
    "\n",
    "from scipy import special as sp\n",
    "\n",
    "def divide( a, b ):\n",
    "    \"\"\" ignore / 0, div0( [-1, 0, 1], 0 ) -> [0, 0, 0] \"\"\"\n",
    "    with np.errstate(divide='ignore', invalid='ignore'):\n",
    "        c = np.true_divide( a, b )\n",
    "#         c[ ~ np.isfinite( c )] = 0\n",
    "    return c"
   ]
  },
  {
   "cell_type": "code",
   "execution_count": 7,
   "metadata": {},
   "outputs": [],
   "source": [
    "df = pd.read_hdf('../../data-driven/data/hgg-double-fake-trees-training-2017.h5')"
   ]
  },
  {
   "cell_type": "code",
   "execution_count": 29,
   "metadata": {},
   "outputs": [
    {
     "data": {
      "text/plain": [
       "array(['Y', 'Z', 'avg_et', 'avg_pt', 'cr_region', 'diff_et',\n",
       "       'dijet_LeadJPt', 'dijet_Mjj', 'dijet_SubJPt', 'dijet_Zep',\n",
       "       'dijet_abs_dEta', 'dijet_dipho_dphi', 'dijet_dipho_dphi_trunc',\n",
       "       'dijet_dphi', 'dijet_leadEta', 'dijet_minDRJetPho', 'dijet_mva',\n",
       "       'dijet_subleadEta', 'dipho_PToM', 'dipho_cosphi', 'dipho_leadEt',\n",
       "       'dipho_leadEta', 'dipho_leadIDMVA', 'dipho_leadPt',\n",
       "       'dipho_lead_elveto', 'dipho_lead_sieie', 'dipho_mass', 'dipho_mva',\n",
       "       'dipho_subleadEt', 'dipho_subleadEta', 'dipho_subleadIDMVA',\n",
       "       'dipho_subleadPt', 'dipho_sublead_elveto', 'dipho_sublead_sieie',\n",
       "       'eta_cat', 'fail_id', 'isvbf', 'leadPho_PToM', 'lead_eta_cat',\n",
       "       'm_sideband', 'max_eta', 'max_id', 'min_eta', 'min_id', 'n_jet_30',\n",
       "       'pass_id', 'sample', 'sublPho_PToM', 'subl_eta_cat', 'weight',\n",
       "       'weight_bins', 'dijet_centrality_gg', 'dijet_bdt'], dtype=object)"
      ]
     },
     "execution_count": 29,
     "metadata": {},
     "output_type": "execute_result"
    }
   ],
   "source": [
    "def vbf_presel(data):\n",
    "    return (\n",
    "        (data[\"leadPho_PToM\"       ]> (1/3.0))&\n",
    "        (data[\"sublPho_PToM\"       ]> (1/4.0))&\n",
    "        (data[\"dijet_LeadJPt\"      ]> 30     )& \n",
    "        (data[\"dijet_SubJPt\"       ]> 20     )&\n",
    "        (data[\"dijet_Mjj\"          ]> 250    )&\n",
    "        (data[\"dipho_mass\"         ]> 100    )&\n",
    "        (data[\"dipho_mass\"         ]< 180    ))\n",
    "\n",
    "df = df[vbf_presel(df)]\n",
    "df.columns.values"
   ]
  },
  {
   "cell_type": "code",
   "execution_count": 30,
   "metadata": {},
   "outputs": [],
   "source": [
    "from sklearn.externals import joblib\n",
    "clf = joblib.load('../../data-driven/notebooks/data-driven-bkg-GBC-training.pkl') \n",
    "\n",
    "def evaluate_sklearn(cls, vals, coef=1):\n",
    "    scale = 1.0 / cls.n_estimators\n",
    "    ret = np.zeros(vals.shape[0])\n",
    "\n",
    "    learning_rate = cls.learning_rate\n",
    "    for itree, t in enumerate(cls.estimators_[:, 0]):\n",
    "        r = t.predict(vals)\n",
    "        ret += r * scale\n",
    "    return 2.0/(1.0 + np.exp(-coef/learning_rate * ret)) - 1\n",
    "\n",
    "df['dijet_centrality_gg'] = np.exp(-4*(df.dijet_Zep/df.dijet_abs_dEta)**2)\n",
    "_dijetvar_ = [u'dijet_LeadJPt'  ,u'dijet_SubJPt', \n",
    "              u'dijet_abs_dEta' ,u'dijet_Mjj', \n",
    "              u'dijet_centrality_gg',u'dijet_dipho_dphi_trunc',\n",
    "              u'dijet_dphi'     ,u'dijet_minDRJetPho',\n",
    "              u'leadPho_PToM'   ,u'sublPho_PToM']\n",
    "\n",
    "df['dijet_bdt'] = evaluate_sklearn(clf,df[_dijetvar_])"
   ]
  },
  {
   "cell_type": "code",
   "execution_count": 31,
   "metadata": {},
   "outputs": [],
   "source": [
    "df_bkgs = df[\n",
    "    (df['sample'] != 'data' ) & \n",
    "    (df['sample'] != 'qcd'  ) & \n",
    "    (df['sample'] != 'vbf'  ) &\n",
    "    (df['sample'] != 'gjet' ) & \n",
    "    (df['sample'] != 'zee'  )\n",
    "]\n",
    "df_sign = df[\n",
    "    (df['sample'] == 'vbf'  )\n",
    "]"
   ]
  },
  {
   "cell_type": "code",
   "execution_count": 32,
   "metadata": {},
   "outputs": [
    {
     "data": {
      "image/png": "[encoded data removed]",
      "text/plain": [
       "<matplotlib.figure.Figure at 0x100915d50>"
      ]
     },
     "metadata": {},
     "output_type": "display_data"
    }
   ],
   "source": [
    "plt.figure(figsize=(4,4))\n",
    "\n",
    "plt.hist(df_bkgs.dijet_bdt,bins=100, range=[-1,1], \n",
    "         alpha=0.4, weights=df_bkgs.weight, \n",
    "         histtype='stepfilled',lw=1, normed=1)\n",
    "plt.hist(df_sign.dijet_bdt,bins=100, range=[-1,1], \n",
    "         alpha=0.4, weights=df_sign.weight, \n",
    "         histtype='stepfilled',lw=1, normed=1)\n",
    "# plt.yscale('log')\n",
    "plt.show()"
   ]
  },
  {
   "cell_type": "code",
   "execution_count": 33,
   "metadata": {},
   "outputs": [
    {
     "data": {
      "image/png": "[encoded data removed]",
      "text/plain": [
       "<matplotlib.figure.Figure at 0x13bd63410>"
      ]
     },
     "metadata": {},
     "output_type": "display_data"
    }
   ],
   "source": [
    "rng = np.random.RandomState(15)  # deterministic random data\n",
    "\n",
    "s = df_sign.dijet_bdt\n",
    "b = df_bkgs.dijet_bdt\n",
    "\n",
    "ms = df_sign.dipho_mass\n",
    "mb = df_bkgs.dipho_mass\n",
    "\n",
    "ws = df_sign.weight\n",
    "wb = df_bkgs.weight\n",
    "\n",
    "X = np.concatenate([s,b])\n",
    "Y = np.concatenate([np.ones(s.shape[0]), np.zeros(b.shape[0])])\n",
    "W = np.concatenate([ws,wb])\n",
    "M = np.concatenate([ms,mb])\n",
    "\n",
    "\n",
    "plt.figure(figsize=(5,5))\n",
    "we_s, x = np.histogram(s, bins=50, range=[-1,1], weights=ws**2)\n",
    "we_b, _ = np.histogram(b, bins=50, range=[-1,1], weights=wb**2)\n",
    "\n",
    "he_s, _ = np.histogram(s, bins=50, range=[-1,1], weights=ws)\n",
    "he_b, _ = np.histogram(b, bins=50, range=[-1,1], weights=wb)\n",
    "\n",
    "x = np.array([(x[i] + x[i+1])/2.0  for i in range(0,len(x)-1)])\n",
    "plt.errorbar(x,he_s, yerr=np.sqrt(we_s), fmt='.', c='r', markersize=8, capthick=0)\n",
    "plt.errorbar(x,he_b, yerr=np.sqrt(we_b), fmt='.', c='b', markersize=8, capthick=0)\n",
    "\n",
    "plt.yscale('log')\n",
    "plt.xlim([-1,1])\n",
    "plt.legend()\n",
    "plt.show()"
   ]
  },
  {
   "cell_type": "code",
   "execution_count": 34,
   "metadata": {},
   "outputs": [
    {
     "name": "stdout",
     "output_type": "stream",
     "text": [
      "Help on class optimize_bin in module binopt.core:\n",
      "\n",
      "class optimize_bin(binner_base)\n",
      " |  Optimse bining of lableled data.\n",
      " |  \n",
      " |  Method resolution order:\n",
      " |      optimize_bin\n",
      " |      binner_base\n",
      " |      __builtin__.object\n",
      " |  \n",
      " |  Methods defined here:\n",
      " |  \n",
      " |  __init__(self, nbins, range, drop_last_bin=True, fix_upper=True, fix_lower=False, use_kde_density=True)\n",
      " |      Init.\n",
      " |  \n",
      " |  binned_score(self, x, breg=None)\n",
      " |      Binned score.\n",
      " |  \n",
      " |  binned_score_cdf(self, x, breg=None)\n",
      " |  \n",
      " |  binned_score_density(self, x, breg=None)\n",
      " |      Binned score after KDE estimation of the distributions.\n",
      " |  \n",
      " |  binned_stats(self, x)\n",
      " |      Binned score.\n",
      " |  \n",
      " |  boundary_scan_2d(self, fig=None, title_fmt='.2f', max_n_ticks=5, steps=0.01, label='parameter_scan')\n",
      " |      Fit result displayed on matrix.\n",
      " |  \n",
      " |  cost_fun(self, x, breg=None, lower_bound=None, upper_bound=None)\n",
      " |      Cost function.\n",
      " |  \n",
      " |  covariance_matrix(self)\n",
      " |      Covariance matrix.\n",
      " |  \n",
      " |  fit(self, X, y, sample_weights=None, fom='AMS2', method='TNC', breg=None, min_args={})\n",
      " |      Fitting.\n",
      " |      There figure of merits are supported for now :\n",
      " |      AMS1\n",
      " |  \n",
      " |  mass_sigma_effective(self, bounds, mass, X, W, nsig=1)\n",
      " |      Input should contain a resonance of some sort.\n",
      " |  \n",
      " |  optimisation_monitoring(self, fig=None)\n",
      " |      Monitoring the convergence of the fit\n",
      " |  \n",
      " |  ----------------------------------------------------------------------\n",
      " |  Data descriptors inherited from binner_base:\n",
      " |  \n",
      " |  __dict__\n",
      " |      dictionary for instance variables (if defined)\n",
      " |  \n",
      " |  __weakref__\n",
      " |      list of weak references to the object (if defined)\n",
      "\n"
     ]
    }
   ],
   "source": [
    "help(binopt.optimize_bin)"
   ]
  },
  {
   "cell_type": "code",
   "execution_count": 35,
   "metadata": {},
   "outputs": [],
   "source": [
    "binner = binopt.optimize_bin(nbins=3, range=[-1,1], \n",
    "                             drop_last_bin=True, fix_upper=True, \n",
    "                             fix_lower=False, use_kde_density=False)"
   ]
  },
  {
   "cell_type": "code",
   "execution_count": 36,
   "metadata": {},
   "outputs": [
    {
     "name": "stdout",
     "output_type": "stream",
     "text": [
      "Help on method fit in module binopt.core:\n",
      "\n",
      "fit(self, X, y, sample_weights=None, fom='AMS2', method='TNC', breg=None, min_args={}) method of binopt.core.optimize_bin instance\n",
      "    Fitting.\n",
      "    There figure of merits are supported for now :\n",
      "    AMS1\n",
      "\n"
     ]
    }
   ],
   "source": [
    "help(binner.fit)"
   ]
  },
  {
   "cell_type": "code",
   "execution_count": 37,
   "metadata": {},
   "outputs": [
    {
     "data": {
      "text/plain": [
       " final_simplex: (array([[ 0.9316,  0.7378,  0.9663],\n",
       "       [ 0.9317,  0.7378,  0.9663],\n",
       "       [ 0.9316,  0.7379,  0.9663],\n",
       "       [ 0.9316,  0.7378,  0.9663]]), array([-0., -0., -0., -0.]))\n",
       "           fun: -0.0\n",
       "       message: 'Optimization terminated successfully.'\n",
       "          nfev: 49\n",
       "           nit: 10\n",
       "        status: 0\n",
       "       success: True\n",
       "             x: array([ 0.7378,  0.9316,  0.9663])"
      ]
     },
     "execution_count": 37,
     "metadata": {},
     "output_type": "execute_result"
    }
   ],
   "source": [
    "binner.fit(X, Y, sample_weights=W, method=\"Nelder-Mead\", breg=None, fom=\"AMS4\")"
   ]
  },
  {
   "cell_type": "code",
   "execution_count": 38,
   "metadata": {},
   "outputs": [
    {
     "data": {
      "image/png": "[encoded data removed]",
      "text/plain": [
       "<matplotlib.figure.Figure at 0x107a246d0>"
      ]
     },
     "metadata": {},
     "output_type": "display_data"
    }
   ],
   "source": [
    "plt.figure(figsize=(5,5))\n",
    "\n",
    "we_s, x = np.histogram(s, bins=50, range=[-1,1], weights=ws**2)\n",
    "we_b, _ = np.histogram(b, bins=50, range=[-1,1], weights=wb**2)\n",
    "\n",
    "he_s, _ = np.histogram(s, bins=50, range=[-1,1], weights=ws)\n",
    "he_b, _ = np.histogram(b, bins=50, range=[-1,1], weights=wb)\n",
    "\n",
    "x = np.array([(x[i] + x[i+1])/2.0  for i in range(0,len(x)-1)])\n",
    "plt.errorbar(x,he_s, yerr=np.sqrt(we_s), fmt='.', c='r', markersize=8, capthick=0)\n",
    "plt.errorbar(x,he_b, yerr=np.sqrt(we_b), fmt='.', c='b', markersize=8, capthick=0)\n",
    "\n",
    "# plt.hist(s, bins=50, range=[0,1], weights=ws,\n",
    "#          color='red' ,histtype='step',lw=1.2, normed=0, label='signal')\n",
    "# plt.hist(b, bins=50, range=[0,1], weights=wb,\n",
    "#          color='blue',histtype='step',lw=1.2, normed=0, label='signal')\n",
    "\n",
    "for x in binner.result.x:\n",
    "    plt.axvline(x, ls='--', c = 'k')  \n",
    "\n",
    "plt.yscale('log')\n",
    "plt.xlim([-1,1])\n",
    "plt.legend()\n",
    "plt.show()"
   ]
  },
  {
   "cell_type": "code",
   "execution_count": 39,
   "metadata": {},
   "outputs": [
    {
     "name": "stdout",
     "output_type": "stream",
     "text": [
      "[ 0.0275  0.1247  0.1636  0.1655]\n",
      "[ 0.6468  0.5055  0.1427  0.0224]\n",
      "[  5.6074e+02   1.6277e+01   7.1404e-01   1.2212e-02]\n",
      "[ 0.0025  0.0022  0.0012  0.0005]\n",
      "[-1.      0.7378  0.9316  0.9663  1.    ]\n"
     ]
    }
   ],
   "source": [
    "print binner.binned_score(binner.result.x)\n",
    "print binner.binned_stats(binner.result.x)[0]\n",
    "print binner.binned_stats(binner.result.x)[1]\n",
    "print binner.binned_stats(binner.result.x)[2]\n",
    "print binner.binned_stats(binner.result.x)[3]"
   ]
  },
  {
   "cell_type": "code",
   "execution_count": 40,
   "metadata": {
    "scrolled": false
   },
   "outputs": [
    {
     "ename": "KeyboardInterrupt",
     "evalue": "",
     "output_type": "error",
     "traceback": [
      "\u001b[0;31m---------------------------------------------------------------------------\u001b[0m",
      "\u001b[0;31mKeyboardInterrupt\u001b[0m                         Traceback (most recent call last)",
      "\u001b[0;32m<ipython-input-40-569cccb2b233>\u001b[0m in \u001b[0;36m<module>\u001b[0;34m()\u001b[0m\n\u001b[0;32m----> 1\u001b[0;31m \u001b[0mbinner\u001b[0m\u001b[0;34m.\u001b[0m\u001b[0mboundary_scan_2d\u001b[0m\u001b[0;34m(\u001b[0m\u001b[0;34m)\u001b[0m\u001b[0;34m\u001b[0m\u001b[0m\n\u001b[0m\u001b[1;32m      2\u001b[0m \u001b[0mplt\u001b[0m\u001b[0;34m.\u001b[0m\u001b[0mshow\u001b[0m\u001b[0;34m(\u001b[0m\u001b[0;34m)\u001b[0m\u001b[0;34m\u001b[0m\u001b[0m\n",
      "\u001b[0;32m/usr/local/lib/python2.7/site-packages/binopt/core.pyc\u001b[0m in \u001b[0;36mboundary_scan_2d\u001b[0;34m(self, fig, title_fmt, max_n_ticks, steps, label)\u001b[0m\n\u001b[1;32m    385\u001b[0m \u001b[0;34m\u001b[0m\u001b[0m\n\u001b[1;32m    386\u001b[0m                 \u001b[0mvec_fun_\u001b[0m \u001b[0;34m=\u001b[0m \u001b[0mnp\u001b[0m\u001b[0;34m.\u001b[0m\u001b[0mvectorize\u001b[0m\u001b[0;34m(\u001b[0m\u001b[0m_fun_\u001b[0m\u001b[0;34m)\u001b[0m\u001b[0;34m\u001b[0m\u001b[0m\n\u001b[0;32m--> 387\u001b[0;31m                 \u001b[0mzz\u001b[0m \u001b[0;34m=\u001b[0m \u001b[0mvec_fun_\u001b[0m\u001b[0;34m(\u001b[0m\u001b[0mxx\u001b[0m\u001b[0;34m,\u001b[0m \u001b[0myy\u001b[0m\u001b[0;34m)\u001b[0m\u001b[0;34m\u001b[0m\u001b[0m\n\u001b[0m\u001b[1;32m    388\u001b[0m                 \u001b[0mlevels\u001b[0m \u001b[0;34m=\u001b[0m \u001b[0mnp\u001b[0m\u001b[0;34m.\u001b[0m\u001b[0mlinspace\u001b[0m\u001b[0;34m(\u001b[0m\u001b[0mzz\u001b[0m\u001b[0;34m.\u001b[0m\u001b[0mmin\u001b[0m\u001b[0;34m(\u001b[0m\u001b[0;34m)\u001b[0m\u001b[0;34m,\u001b[0m \u001b[0;36m0.7\u001b[0m\u001b[0;34m*\u001b[0m\u001b[0mzz\u001b[0m\u001b[0;34m.\u001b[0m\u001b[0mmin\u001b[0m\u001b[0;34m(\u001b[0m\u001b[0;34m)\u001b[0m\u001b[0;34m,\u001b[0m \u001b[0;36m5\u001b[0m\u001b[0;34m)\u001b[0m\u001b[0;34m\u001b[0m\u001b[0m\n\u001b[1;32m    389\u001b[0m                 ax.contourf(xx, yy, zz,\n",
      "\u001b[0;32m/usr/local/lib/python2.7/site-packages/numpy/lib/function_base.pyc\u001b[0m in \u001b[0;36m__call__\u001b[0;34m(self, *args, **kwargs)\u001b[0m\n\u001b[1;32m   2732\u001b[0m             \u001b[0mvargs\u001b[0m\u001b[0;34m.\u001b[0m\u001b[0mextend\u001b[0m\u001b[0;34m(\u001b[0m\u001b[0;34m[\u001b[0m\u001b[0mkwargs\u001b[0m\u001b[0;34m[\u001b[0m\u001b[0m_n\u001b[0m\u001b[0;34m]\u001b[0m \u001b[0;32mfor\u001b[0m \u001b[0m_n\u001b[0m \u001b[0;32min\u001b[0m \u001b[0mnames\u001b[0m\u001b[0;34m]\u001b[0m\u001b[0;34m)\u001b[0m\u001b[0;34m\u001b[0m\u001b[0m\n\u001b[1;32m   2733\u001b[0m \u001b[0;34m\u001b[0m\u001b[0m\n\u001b[0;32m-> 2734\u001b[0;31m         \u001b[0;32mreturn\u001b[0m \u001b[0mself\u001b[0m\u001b[0;34m.\u001b[0m\u001b[0m_vectorize_call\u001b[0m\u001b[0;34m(\u001b[0m\u001b[0mfunc\u001b[0m\u001b[0;34m=\u001b[0m\u001b[0mfunc\u001b[0m\u001b[0;34m,\u001b[0m \u001b[0margs\u001b[0m\u001b[0;34m=\u001b[0m\u001b[0mvargs\u001b[0m\u001b[0;34m)\u001b[0m\u001b[0;34m\u001b[0m\u001b[0m\n\u001b[0m\u001b[1;32m   2735\u001b[0m \u001b[0;34m\u001b[0m\u001b[0m\n\u001b[1;32m   2736\u001b[0m     \u001b[0;32mdef\u001b[0m \u001b[0m_get_ufunc_and_otypes\u001b[0m\u001b[0;34m(\u001b[0m\u001b[0mself\u001b[0m\u001b[0;34m,\u001b[0m \u001b[0mfunc\u001b[0m\u001b[0;34m,\u001b[0m \u001b[0margs\u001b[0m\u001b[0;34m)\u001b[0m\u001b[0;34m:\u001b[0m\u001b[0;34m\u001b[0m\u001b[0m\n",
      "\u001b[0;32m/usr/local/lib/python2.7/site-packages/numpy/lib/function_base.pyc\u001b[0m in \u001b[0;36m_vectorize_call\u001b[0;34m(self, func, args)\u001b[0m\n\u001b[1;32m   2808\u001b[0m                       for a in args]\n\u001b[1;32m   2809\u001b[0m \u001b[0;34m\u001b[0m\u001b[0m\n\u001b[0;32m-> 2810\u001b[0;31m             \u001b[0moutputs\u001b[0m \u001b[0;34m=\u001b[0m \u001b[0mufunc\u001b[0m\u001b[0;34m(\u001b[0m\u001b[0;34m*\u001b[0m\u001b[0minputs\u001b[0m\u001b[0;34m)\u001b[0m\u001b[0;34m\u001b[0m\u001b[0m\n\u001b[0m\u001b[1;32m   2811\u001b[0m \u001b[0;34m\u001b[0m\u001b[0m\n\u001b[1;32m   2812\u001b[0m             \u001b[0;32mif\u001b[0m \u001b[0mufunc\u001b[0m\u001b[0;34m.\u001b[0m\u001b[0mnout\u001b[0m \u001b[0;34m==\u001b[0m \u001b[0;36m1\u001b[0m\u001b[0;34m:\u001b[0m\u001b[0;34m\u001b[0m\u001b[0m\n",
      "\u001b[0;32m/usr/local/lib/python2.7/site-packages/binopt/core.pyc\u001b[0m in \u001b[0;36m_fun_\u001b[0;34m(x, y)\u001b[0m\n\u001b[1;32m    380\u001b[0m                     \u001b[0m_param_\u001b[0m\u001b[0;34m[\u001b[0m\u001b[0mj\u001b[0m\u001b[0;34m]\u001b[0m \u001b[0;34m=\u001b[0m \u001b[0my\u001b[0m\u001b[0;34m\u001b[0m\u001b[0m\n\u001b[1;32m    381\u001b[0m                     \u001b[0;32mif\u001b[0m \u001b[0mx\u001b[0m \u001b[0;34m!=\u001b[0m \u001b[0my\u001b[0m\u001b[0;34m:\u001b[0m\u001b[0;34m\u001b[0m\u001b[0m\n\u001b[0;32m--> 382\u001b[0;31m                         \u001b[0;32mreturn\u001b[0m \u001b[0mself\u001b[0m\u001b[0;34m.\u001b[0m\u001b[0mcost_fun\u001b[0m\u001b[0;34m(\u001b[0m\u001b[0mnp\u001b[0m\u001b[0;34m.\u001b[0m\u001b[0marray\u001b[0m\u001b[0;34m(\u001b[0m\u001b[0m_param_\u001b[0m\u001b[0;34m)\u001b[0m\u001b[0;34m)\u001b[0m\u001b[0;34m\u001b[0m\u001b[0m\n\u001b[0m\u001b[1;32m    383\u001b[0m                     \u001b[0;32melse\u001b[0m\u001b[0;34m:\u001b[0m\u001b[0;34m\u001b[0m\u001b[0m\n\u001b[1;32m    384\u001b[0m                         \u001b[0;32mreturn\u001b[0m \u001b[0;36m0.0\u001b[0m\u001b[0;34m\u001b[0m\u001b[0m\n",
      "\u001b[0;32m/usr/local/lib/python2.7/site-packages/binopt/core.pyc\u001b[0m in \u001b[0;36mcost_fun\u001b[0;34m(self, x, breg, lower_bound, upper_bound)\u001b[0m\n\u001b[1;32m    189\u001b[0m         \u001b[0;32melse\u001b[0m\u001b[0;34m:\u001b[0m\u001b[0;34m\u001b[0m\u001b[0m\n\u001b[1;32m    190\u001b[0m             \u001b[0;32mif\u001b[0m \u001b[0mbreg\u001b[0m \u001b[0;32mis\u001b[0m \u001b[0mNone\u001b[0m\u001b[0;34m:\u001b[0m\u001b[0;34m\u001b[0m\u001b[0m\n\u001b[0;32m--> 191\u001b[0;31m                 \u001b[0mz\u001b[0m \u001b[0;34m=\u001b[0m \u001b[0mself\u001b[0m\u001b[0;34m.\u001b[0m\u001b[0mbinned_score\u001b[0m\u001b[0;34m(\u001b[0m\u001b[0mx\u001b[0m\u001b[0;34m)\u001b[0m\u001b[0;34m\u001b[0m\u001b[0m\n\u001b[0m\u001b[1;32m    192\u001b[0m             \u001b[0;32melse\u001b[0m\u001b[0;34m:\u001b[0m\u001b[0;34m\u001b[0m\u001b[0m\n\u001b[1;32m    193\u001b[0m                 \u001b[0mz\u001b[0m \u001b[0;34m=\u001b[0m \u001b[0mself\u001b[0m\u001b[0;34m.\u001b[0m\u001b[0mbinned_score\u001b[0m\u001b[0;34m(\u001b[0m\u001b[0mx\u001b[0m\u001b[0;34m,\u001b[0m \u001b[0mbreg\u001b[0m\u001b[0;34m)\u001b[0m\u001b[0;34m\u001b[0m\u001b[0m\n",
      "\u001b[0;32m/usr/local/lib/python2.7/site-packages/binopt/core.pyc\u001b[0m in \u001b[0;36mbinned_score\u001b[0;34m(self, x, breg)\u001b[0m\n\u001b[1;32m    105\u001b[0m         nb_, _ = np.histogram(self.X[self.y == 0], bins=_bins_,\n\u001b[1;32m    106\u001b[0m                               \u001b[0mrange\u001b[0m\u001b[0;34m=\u001b[0m\u001b[0mself\u001b[0m\u001b[0;34m.\u001b[0m\u001b[0mrange\u001b[0m\u001b[0;34m,\u001b[0m\u001b[0;34m\u001b[0m\u001b[0m\n\u001b[0;32m--> 107\u001b[0;31m                               weights=self.sample_weights[self.y == 0])\n\u001b[0m\u001b[1;32m    108\u001b[0m         ns_, _ = np.histogram(self.X[self.y == 1], bins=_bins_,\n\u001b[1;32m    109\u001b[0m                               \u001b[0mrange\u001b[0m\u001b[0;34m=\u001b[0m\u001b[0mself\u001b[0m\u001b[0;34m.\u001b[0m\u001b[0mrange\u001b[0m\u001b[0;34m,\u001b[0m\u001b[0;34m\u001b[0m\u001b[0m\n",
      "\u001b[0;32m/usr/local/lib/python2.7/site-packages/numpy/lib/function_base.pyc\u001b[0m in \u001b[0;36mhistogram\u001b[0;34m(a, bins, range, normed, weights, density)\u001b[0m\n\u001b[1;32m    801\u001b[0m                 \u001b[0mtmp_a\u001b[0m \u001b[0;34m=\u001b[0m \u001b[0ma\u001b[0m\u001b[0;34m[\u001b[0m\u001b[0mi\u001b[0m\u001b[0;34m:\u001b[0m\u001b[0mi\u001b[0m\u001b[0;34m+\u001b[0m\u001b[0mBLOCK\u001b[0m\u001b[0;34m]\u001b[0m\u001b[0;34m\u001b[0m\u001b[0m\n\u001b[1;32m    802\u001b[0m                 \u001b[0mtmp_w\u001b[0m \u001b[0;34m=\u001b[0m \u001b[0mweights\u001b[0m\u001b[0;34m[\u001b[0m\u001b[0mi\u001b[0m\u001b[0;34m:\u001b[0m\u001b[0mi\u001b[0m\u001b[0;34m+\u001b[0m\u001b[0mBLOCK\u001b[0m\u001b[0;34m]\u001b[0m\u001b[0;34m\u001b[0m\u001b[0m\n\u001b[0;32m--> 803\u001b[0;31m                 \u001b[0msorting_index\u001b[0m \u001b[0;34m=\u001b[0m \u001b[0mnp\u001b[0m\u001b[0;34m.\u001b[0m\u001b[0margsort\u001b[0m\u001b[0;34m(\u001b[0m\u001b[0mtmp_a\u001b[0m\u001b[0;34m)\u001b[0m\u001b[0;34m\u001b[0m\u001b[0m\n\u001b[0m\u001b[1;32m    804\u001b[0m                 \u001b[0msa\u001b[0m \u001b[0;34m=\u001b[0m \u001b[0mtmp_a\u001b[0m\u001b[0;34m[\u001b[0m\u001b[0msorting_index\u001b[0m\u001b[0;34m]\u001b[0m\u001b[0;34m\u001b[0m\u001b[0m\n\u001b[1;32m    805\u001b[0m                 \u001b[0msw\u001b[0m \u001b[0;34m=\u001b[0m \u001b[0mtmp_w\u001b[0m\u001b[0;34m[\u001b[0m\u001b[0msorting_index\u001b[0m\u001b[0;34m]\u001b[0m\u001b[0;34m\u001b[0m\u001b[0m\n",
      "\u001b[0;32m/usr/local/lib/python2.7/site-packages/numpy/core/fromnumeric.pyc\u001b[0m in \u001b[0;36margsort\u001b[0;34m(a, axis, kind, order)\u001b[0m\n\u001b[1;32m    905\u001b[0m \u001b[0;34m\u001b[0m\u001b[0m\n\u001b[1;32m    906\u001b[0m     \"\"\"\n\u001b[0;32m--> 907\u001b[0;31m     \u001b[0;32mreturn\u001b[0m \u001b[0m_wrapfunc\u001b[0m\u001b[0;34m(\u001b[0m\u001b[0ma\u001b[0m\u001b[0;34m,\u001b[0m \u001b[0;34m'argsort'\u001b[0m\u001b[0;34m,\u001b[0m \u001b[0maxis\u001b[0m\u001b[0;34m=\u001b[0m\u001b[0maxis\u001b[0m\u001b[0;34m,\u001b[0m \u001b[0mkind\u001b[0m\u001b[0;34m=\u001b[0m\u001b[0mkind\u001b[0m\u001b[0;34m,\u001b[0m \u001b[0morder\u001b[0m\u001b[0;34m=\u001b[0m\u001b[0morder\u001b[0m\u001b[0;34m)\u001b[0m\u001b[0;34m\u001b[0m\u001b[0m\n\u001b[0m\u001b[1;32m    908\u001b[0m \u001b[0;34m\u001b[0m\u001b[0m\n\u001b[1;32m    909\u001b[0m \u001b[0;34m\u001b[0m\u001b[0m\n",
      "\u001b[0;32m/usr/local/lib/python2.7/site-packages/numpy/core/fromnumeric.pyc\u001b[0m in \u001b[0;36m_wrapfunc\u001b[0;34m(obj, method, *args, **kwds)\u001b[0m\n\u001b[1;32m     55\u001b[0m \u001b[0;32mdef\u001b[0m \u001b[0m_wrapfunc\u001b[0m\u001b[0;34m(\u001b[0m\u001b[0mobj\u001b[0m\u001b[0;34m,\u001b[0m \u001b[0mmethod\u001b[0m\u001b[0;34m,\u001b[0m \u001b[0;34m*\u001b[0m\u001b[0margs\u001b[0m\u001b[0;34m,\u001b[0m \u001b[0;34m**\u001b[0m\u001b[0mkwds\u001b[0m\u001b[0;34m)\u001b[0m\u001b[0;34m:\u001b[0m\u001b[0;34m\u001b[0m\u001b[0m\n\u001b[1;32m     56\u001b[0m     \u001b[0;32mtry\u001b[0m\u001b[0;34m:\u001b[0m\u001b[0;34m\u001b[0m\u001b[0m\n\u001b[0;32m---> 57\u001b[0;31m         \u001b[0;32mreturn\u001b[0m \u001b[0mgetattr\u001b[0m\u001b[0;34m(\u001b[0m\u001b[0mobj\u001b[0m\u001b[0;34m,\u001b[0m \u001b[0mmethod\u001b[0m\u001b[0;34m)\u001b[0m\u001b[0;34m(\u001b[0m\u001b[0;34m*\u001b[0m\u001b[0margs\u001b[0m\u001b[0;34m,\u001b[0m \u001b[0;34m**\u001b[0m\u001b[0mkwds\u001b[0m\u001b[0;34m)\u001b[0m\u001b[0;34m\u001b[0m\u001b[0m\n\u001b[0m\u001b[1;32m     58\u001b[0m \u001b[0;34m\u001b[0m\u001b[0m\n\u001b[1;32m     59\u001b[0m     \u001b[0;31m# An AttributeError occurs if the object does not have\u001b[0m\u001b[0;34m\u001b[0m\u001b[0;34m\u001b[0m\u001b[0m\n",
      "\u001b[0;31mKeyboardInterrupt\u001b[0m: "
     ]
    },
    {
     "data": {
      "image/png": "[encoded data removed]",
      "text/plain": [
       "<matplotlib.figure.Figure at 0x10217ca90>"
      ]
     },
     "metadata": {},
     "output_type": "display_data"
    }
   ],
   "source": [
    "binner.boundary_scan_2d()\n",
    "plt.show()"
   ]
  },
  {
   "cell_type": "markdown",
   "metadata": {},
   "source": [
    "## Optimisation of the boundaries using $\\sigma_{\\rm eff}$ of signla peak"
   ]
  },
  {
   "cell_type": "code",
   "execution_count": 21,
   "metadata": {},
   "outputs": [],
   "source": [
    "from scipy.stats import norm\n",
    "from scipy.optimize import minimize\n",
    "import scipy.stats as st\n",
    "\n",
    "def binned_score_mgg(bounds, X, y, W, mass, nsig=1):\n",
    "    \"\"\"\n",
    "    Input should contain a resonance of some sort.\n",
    "    \"\"\"\n",
    "    _bounds_ = np.sort(np.insert(bounds, [0, bounds.shape[0]], [binner.range]))\n",
    "    _cats_ = np.digitize(X, _bounds_)\n",
    "    _seff_ = np.zeros(_bounds_.shape[0])\n",
    "    _nums_ = np.zeros(_bounds_.shape[0])\n",
    "    _numb_ = np.zeros(_bounds_.shape[0])\n",
    "    _errb_ = np.zeros(_bounds_.shape[0])\n",
    "    frac = np.abs(norm.cdf(0, -nsig, 1) - norm.cdf(0, nsig, 1))\n",
    "    for cid in range(1,_bounds_.shape[0]):\n",
    "        max_, min_ = binopt.tools.weighted_quantile(\n",
    "            mass[(_cats_ == cid)& (y==1)],\n",
    "            [norm.cdf(0, -nsig, 1), norm.cdf(0, nsig, 1)],\n",
    "            sample_weight=W[(_cats_ == cid)& (y==1)])\n",
    "        \n",
    "        _seff_[cid] = np.abs(max_-min_)/2.0\n",
    "        _nums_[cid] = W[(_cats_ == cid) & (y==1)].sum()\n",
    "        _numb_[cid] = W[(_cats_ == cid) & (y==0)&\n",
    "                        (mass<max_)&(mass>min_) ].sum()*nsig*_seff_[cid]\n",
    "        _errb_[cid] = np.sqrt((W[(_cats_ == cid) & (y==0)&\n",
    "                        (mass<max_)&(mass>min_) ]**2).sum())\n",
    "#         print \"bakground [\",cid,\"] : \", _errb_[cid]\n",
    "#     return _errb_\n",
    "    return binner._fom_(_nums_, _numb_,_errb_, method=\"AMS4\")\n",
    "\n",
    "def binned_score_fit(bounds, X, y, W, mass, nsig=1):\n",
    "    \"\"\"\n",
    "    Input should contain a resonance of some sort.\n",
    "    \"\"\"\n",
    "    _bounds_ = np.sort(np.insert(bounds, [0, bounds.shape[0]], [binner.range]))\n",
    "    _cats_ = np.digitize(X, _bounds_)\n",
    "    _seff_ = np.zeros(_bounds_.shape[0])\n",
    "    _nums_ = np.zeros(_bounds_.shape[0])\n",
    "    _numb_ = np.zeros(_bounds_.shape[0])\n",
    "    _errb_ = np.zeros(_bounds_.shape[0])\n",
    "    frac = np.abs(norm.cdf(0, -nsig, 1) - norm.cdf(0, nsig, 1))\n",
    "    \n",
    "    for cid in range(1,_bounds_.shape[0]):\n",
    "        def _obj(x):\n",
    "            out = -np.sum(\n",
    "                W[(_cats_ == cid) & (y==0)]*st.expon(\n",
    "                    loc=100, scale=np.exp(x)\n",
    "                ).logpdf(mass[(_cats_ == cid) & (y==0)])\n",
    "            )\n",
    "            if np.isnan(out):\n",
    "                return 0\n",
    "            else:\n",
    "                return out\n",
    "        _fit = minimize(_obj, x0=[0.03], method='Powell')\n",
    "        min_, max_ = binopt.tools.weighted_quantile(\n",
    "            mass[(_cats_ == cid)& (y==1)],\n",
    "            [norm.cdf(0, -nsig, 1), norm.cdf(0, nsig, 1)],\n",
    "            sample_weight=W[(_cats_ == cid)& (y==1)])\n",
    "        \n",
    "        _seff_[cid] = np.abs(max_-min_)/2.0\n",
    "        _nums_[cid] = W[(_cats_ == cid) & (y==1)].sum()*frac\n",
    "        _numb_[cid] = np.abs(\n",
    "            st.expon(loc=100,scale=np.exp(_fit.x)).cdf(min_)-\n",
    "            st.expon(loc=100,scale=np.exp(_fit.x)).cdf(max_)\n",
    "        )\n",
    "        _errb_[cid] = np.sqrt((W[(_cats_ == cid) & (y==0)]**2).sum()*_numb_[cid])\n",
    "        _numb_[cid] *= W[(_cats_ == cid) & (y==0)].sum()\n",
    "    return binner._fom_(_nums_, _numb_,_errb_, method=\"AMS4\")\n",
    "\n",
    "def cost_fun_mgg(x):\n",
    "        \"\"\"Cost function.\"\"\"\n",
    "        z = None\n",
    "        z = binned_score_mgg(x, X, Y, W, M)\n",
    "        return -np.sqrt((z[1:]**2).sum())\n",
    "    \n",
    "def cost_fun_fit(x):\n",
    "        \"\"\"Cost function.\"\"\"\n",
    "        z = None\n",
    "        z = binned_score_fit(x, X, Y, W, M)\n",
    "        return -np.sqrt((z[1:]**2).sum())"
   ]
  },
  {
   "cell_type": "code",
   "execution_count": 22,
   "metadata": {
    "scrolled": false
   },
   "outputs": [
    {
     "name": "stdout",
     "output_type": "stream",
     "text": [
      "count : \n",
      "-0.55160227261\n",
      "fit   : \n",
      "-0.561769534216\n"
     ]
    }
   ],
   "source": [
    "print \"count : \"\n",
    "print cost_fun_mgg(binner.result.x)\n",
    "print \"fit   : \"\n",
    "print cost_fun_fit(binner.result.x)"
   ]
  },
  {
   "cell_type": "code",
   "execution_count": 23,
   "metadata": {},
   "outputs": [],
   "source": [
    "def cost_mgg_(x):\n",
    "    return cost_fun_mgg(np.array([x]))\n",
    "\n",
    "def cost_fit_(x):\n",
    "    return cost_fun_fit(np.array([x]))\n",
    "\n",
    "def cost_std_(x):\n",
    "    return binner.cost_fun(np.array([x]))\n",
    "cost_mgg_ = np.vectorize(cost_mgg_)\n",
    "cost_fit_ = np.vectorize(cost_fit_)\n",
    "cost_std_ = np.vectorize(cost_std_)"
   ]
  },
  {
   "cell_type": "code",
   "execution_count": 24,
   "metadata": {
    "scrolled": false
   },
   "outputs": [
    {
     "data": {
      "image/png": "[encoded data removed]",
      "text/plain": [
       "<matplotlib.figure.Figure at 0x12b966cd0>"
      ]
     },
     "metadata": {},
     "output_type": "display_data"
    }
   ],
   "source": [
    "plt.figure(figsize=(5,5))\n",
    "\n",
    "t = np.linspace(0,X.max(),100)\n",
    "plt.plot(t, cost_mgg_(t), 'b-')\n",
    "plt.plot(t, cost_fit_(t), 'r-')\n",
    "# plt.plot(t, cost_std_(t), 'g-')\n",
    "\n",
    "\n",
    "# plt.yscale('log')\n",
    "plt.xlim([0,1])\n",
    "# plt.ylim([-1.1,-0.7])\n",
    "plt.legend()\n",
    "plt.show()"
   ]
  },
  {
   "cell_type": "code",
   "execution_count": 25,
   "metadata": {
    "scrolled": false
   },
   "outputs": [
    {
     "data": {
      "image/png": "[encoded data removed]",
      "text/plain": [
       "<matplotlib.figure.Figure at 0x113c73a10>"
      ]
     },
     "metadata": {},
     "output_type": "display_data"
    }
   ],
   "source": [
    "plt.figure(figsize=(5,5))\n",
    "\n",
    "t = np.linspace(0,X.max(),100)\n",
    "plt.plot(t, -cost_mgg_(t)/cost_mgg_(t).min(), 'b-', label = \"count in $\\sigma_{eff}$\")\n",
    "plt.plot(t, -cost_fit_(t)/cost_fit_(t).min(), 'r-', label = \"fit in $m_{\\gamma\\gamma}$\")\n",
    "plt.plot(t, -cost_std_(t)/cost_std_(t).min(), 'g-', label = \"count\")\n",
    "# plt.yscale('log')\n",
    "plt.xlim([0,1])\n",
    "# plt.ylim([-1.1,-0.7])\n",
    "plt.xlabel(\"$X_{cut}$\")\n",
    "plt.legend(loc = \"lower left\", fontsize=13)\n",
    "plt.show()"
   ]
  },
  {
   "cell_type": "markdown",
   "metadata": {},
   "source": [
    "## Bootstraping"
   ]
  },
  {
   "cell_type": "code",
   "execution_count": 41,
   "metadata": {},
   "outputs": [],
   "source": [
    "from sklearn.model_selection import KFold\n",
    "\n",
    "n_splits = 100\n",
    "kf = KFold(n_splits=n_splits, shuffle=True, random_state=42)\n",
    "\n",
    "i = 0\n",
    "for train, test in kf.split(X):\n",
    "    w_ = W[train] * (W.sum()/W[train].sum())\n",
    "#     print 'fold[', i ,'] = ',  w_.sum()\n",
    "    i += 1"
   ]
  },
  {
   "cell_type": "code",
   "execution_count": null,
   "metadata": {},
   "outputs": [],
   "source": [
    "from sklearn.model_selection import KFold\n",
    "\n",
    "n_splits = 10\n",
    "kf = KFold(n_splits=n_splits, shuffle=True, random_state=42)\n",
    "t = np.linspace(0.1,0.99,100)\n",
    "\n",
    "cost_kfold_results = []\n",
    "\n",
    "i = 0\n",
    "for train, test in kf.split(X):\n",
    "    w_ = W[train] * (W.sum()/W[train].sum())\n",
    "    def cost_kfold_train(x):\n",
    "        \"\"\"Cost function.\"\"\"\n",
    "        z = None\n",
    "        z = binned_score_fit(x, X[train], Y[train], 10*W[train], M[train])\n",
    "        return -np.sqrt((z[1:]**2).sum())\n",
    "\n",
    "    def cost_kfold_train_(x):\n",
    "        return cost_kfold_train(np.array([x]))\n",
    "    cost_kfold_train_= np.vectorize(cost_kfold_train_)\n",
    "    cost_kfold_results.append(cost_kfold_train_(t))\n",
    "    \n",
    "    print 'fold[', i ,'] = ',  w_.sum()\n",
    "    i += 1   "
   ]
  },
  {
   "cell_type": "code",
   "execution_count": null,
   "metadata": {},
   "outputs": [],
   "source": [
    "mean_score = []\n",
    "stds_score = []\n",
    "for h_ in np.array(cost_kfold_results).T:\n",
    "    mean_score.append(h_.mean())\n",
    "    stds_score.append(h_.std ())\n",
    "    \n",
    "mean_score = np.array(mean_score)\n",
    "stds_score = np.array(stds_score)"
   ]
  },
  {
   "cell_type": "code",
   "execution_count": null,
   "metadata": {},
   "outputs": [],
   "source": [
    "plt.figure(figsize=(5,5))\n",
    "# for i in range(0,n_splits)\n",
    "plt.plot(t, mean_score, 'k-')\n",
    "plt.fill_between(t, mean_score+stds_score, mean_score-stds_score, alpha=0.5, color='red')\n",
    "    \n",
    "plt.xlim([0,1])\n",
    "plt.ylim([-0.65,-0.45])\n",
    "plt.xlabel(\"$X_{cut}$\")\n",
    "plt.legend(loc = \"lower left\", fontsize=13)\n",
    "plt.show()"
   ]
  },
  {
   "cell_type": "code",
   "execution_count": null,
   "metadata": {},
   "outputs": [],
   "source": [
    "cv_binner = binopt.optimize_bin(nbins=3, range=[0,1], \n",
    "                                drop_last_bin=True, fix_upper=True, \n",
    "                                fix_lower=False, use_kde_density=False)"
   ]
  },
  {
   "cell_type": "code",
   "execution_count": null,
   "metadata": {},
   "outputs": [],
   "source": [
    "bounds = []\n",
    "costfn = []\n",
    "\n",
    "costfn_stes = []\n",
    "n_splits = 20\n",
    "kf = KFold(n_splits=n_splits, shuffle=True, random_state=17)\n",
    "i = 0\n",
    "for train, test in kf.split(X):\n",
    "    print 'fold == ', i\n",
    "    cv_binner.fit(X[train], Y[train], sample_weights=W[train], breg=None, fom=\"AMS4\")\n",
    "    bounds.append(cv_binner.result.x  )\n",
    "    costfn.append(cv_binner.result.fun)\n",
    "    costfn_stes.append(np.mean(bounds))\n",
    "    i += 1"
   ]
  },
  {
   "cell_type": "code",
   "execution_count": null,
   "metadata": {},
   "outputs": [],
   "source": [
    "bounds = np.array(bounds)\n",
    "costfn = np.array(costfn)"
   ]
  },
  {
   "cell_type": "code",
   "execution_count": null,
   "metadata": {},
   "outputs": [],
   "source": [
    "plt.figure(figsize=(5,5))\n",
    "\n",
    "for u in bounds.T:\n",
    "    plt.axvline(u.mean(), ls='-', c = 'r')\n",
    "    plt.axvspan(u.mean() - u.std(),u.mean() + u.std(),facecolor='r',alpha=0.2)  \n",
    "plt.xlim([0,1])\n",
    "plt.legend()\n",
    "plt.show()"
   ]
  },
  {
   "cell_type": "code",
   "execution_count": null,
   "metadata": {},
   "outputs": [],
   "source": [
    "plt.figure(figsize=(5,5))\n",
    "plt.imshow(np.cov(bounds.T), interpolation='nearest', \n",
    "           cmap=plt.cm.Spectral_r)"
   ]
  },
  {
   "cell_type": "code",
   "execution_count": null,
   "metadata": {},
   "outputs": [],
   "source": [
    "plt.figure(figsize=(5,5))\n",
    "plt.plot(range(len(costfn_stes)),costfn_stes, 'b-')"
   ]
  },
  {
   "cell_type": "markdown",
   "metadata": {},
   "source": [
    "## Clustering algorithms"
   ]
  },
  {
   "cell_type": "code",
   "execution_count": null,
   "metadata": {},
   "outputs": [],
   "source": [
    "from sklearn.cluster import KMeans"
   ]
  },
  {
   "cell_type": "code",
   "execution_count": null,
   "metadata": {},
   "outputs": [],
   "source": [
    "XY = np.stack([X,Y])\n",
    "kmeans = KMeans(n_clusters=3, random_state=0).fit(X.reshape(-1,1))"
   ]
  },
  {
   "cell_type": "code",
   "execution_count": null,
   "metadata": {},
   "outputs": [],
   "source": [
    "clus = kmeans.predict(X.reshape(-1,1))"
   ]
  },
  {
   "cell_type": "code",
   "execution_count": null,
   "metadata": {},
   "outputs": [],
   "source": [
    "plt.figure(figsize=(5,5))\n",
    "for c in np.unique(clus):\n",
    "    plt.hist(X[clus==c],bins=200, range=[0,1], \n",
    "             alpha=1.0, weights=W[clus==c], \n",
    "             histtype='step',lw=1, normed=0)\n",
    "plt.yscale('log')"
   ]
  },
  {
   "cell_type": "markdown",
   "metadata": {},
   "source": [
    "## Trying another loss function"
   ]
  },
  {
   "cell_type": "markdown",
   "metadata": {},
   "source": [
    "In the previous version the loss function is defined as $$\\mathcal{L}(\\theta) = - \\sum_{i=0}^{N_{cat}} Z_{i}^2$$\n",
    "\n",
    "$$\\frac{d\\mathcal{L}(\\theta)}{d b} = \\frac{1}{b + s} \\left(\\log{\\left (b \\right )} - \\log{\\left (b + s \\right )}\\right) - \\frac{1}{\\left(b + s\\right)^{2}} \\left(b \\log{\\left (b \\right )} + s \\log{\\left (s \\right )} - \\left(b + s\\right) \\log{\\left (b + s \\right )}\\right)$$"
   ]
  },
  {
   "cell_type": "code",
   "execution_count": null,
   "metadata": {},
   "outputs": [],
   "source": [
    "def binned_cross_entropy(bounds, X, y, W):\n",
    "    \"\"\"\n",
    "    Input should contain a resonance of some sort.\n",
    "    \"\"\"\n",
    "    _bounds_ = np.sort(np.insert(bounds, [0, bounds.shape[0]], [binner.range]))\n",
    "    _cats_ = np.digitize(X, _bounds_)\n",
    "    _score_ = np.zeros(_bounds_.shape[0])\n",
    "    \n",
    "    for cid in range(1,_bounds_.shape[0]):\n",
    "        _ns = W[(_cats_ == cid) & (y==1)].sum()\n",
    "        _nb = W[(_cats_ == cid) & (y==0)].sum()\n",
    "        \n",
    "        _vs = W[(_cats_ == cid) & (y==1)].var()\n",
    "        _vb = W[(_cats_ == cid) & (y==0)].var()\n",
    "        ps = divide(_ns, np.sqrt(_nb + _ns))\n",
    "        pb = divide(_nb, np.sqrt(_nb + _ns))\n",
    "        _score_[cid] = np.sqrt(ps*pb)\n",
    "    return _score_ \n",
    "\n",
    "def entropy_diff_b(s, b):\n",
    "    term_1 = divide(np.log(b) - np.log(s+b), s+b)\n",
    "    term_2 = divide(b*np.log(b) + s*np.log(s) - (s+b)*np.log(s+b), (s+b)**2)\n",
    "    return term_1-term_2\n",
    "\n",
    "def cost_cross_entropy(x):\n",
    "        \"\"\"Cost function.\"\"\"\n",
    "        z = None\n",
    "        z = binned_cross_entropy(x, X, Y, W)\n",
    "        return np.sqrt((z**2).sum())-1\n",
    "    \n",
    "def cost_cross_entropy_(x):\n",
    "    return cost_cross_entropy(np.array([x]))\n",
    "\n",
    "cost_cross_entropy_ = np.vectorize(cost_cross_entropy_)"
   ]
  },
  {
   "cell_type": "code",
   "execution_count": null,
   "metadata": {},
   "outputs": [],
   "source": [
    "plt.figure(figsize=(5,5))\n",
    "\n",
    "t = np.linspace(0.01,0.99,100)\n",
    "plt.plot(t, -cost_cross_entropy_(t)/cost_cross_entropy_(t).min(), 'b-', label = \"Cross-entropy\")\n",
    "plt.plot(t, -cost_std_(t)/cost_std_(t).min(), 'g-', label = \"Significance\")\n",
    "plt.xlim([0,1])\n",
    "plt.ylim([-1.1,-0.7])\n",
    "plt.xlabel(\"$X_{cut}$\")\n",
    "plt.legend(loc = \"lower left\", fontsize=13)\n",
    "plt.show()"
   ]
  },
  {
   "cell_type": "code",
   "execution_count": null,
   "metadata": {},
   "outputs": [],
   "source": [
    "derive_by_array(lamb, (eta, xi))"
   ]
  },
  {
   "cell_type": "code",
   "execution_count": null,
   "metadata": {},
   "outputs": [],
   "source": [
    "hessian()"
   ]
  }
 ],
 "metadata": {
  "kernelspec": {
   "display_name": "Python 2",
   "language": "python",
   "name": "python2"
  },
  "language_info": {
   "codemirror_mode": {
    "name": "ipython",
    "version": 2
   },
   "file_extension": ".py",
   "mimetype": "text/x-python",
   "name": "python",
   "nbconvert_exporter": "python",
   "pygments_lexer": "ipython2",
   "version": "2.7.13"
  }
 },
 "nbformat": 4,
 "nbformat_minor": 2
}
