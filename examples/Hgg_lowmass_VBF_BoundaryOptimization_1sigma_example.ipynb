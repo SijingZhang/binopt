{
 "cells": [
  {
   "cell_type": "code",
   "execution_count": 1,
   "metadata": {},
   "outputs": [],
   "source": [
    "import matplotlib.pyplot as plt\n",
    "import numpy  as np\n",
    "import pandas as pd\n",
    "import math\n",
    "\n",
    "from scipy import optimize\n",
    "from scipy import stats\n",
    "\n",
    "from scipy.stats import norm\n",
    "\n",
    "\n",
    "from scipy.optimize import leastsq\n",
    "\n",
    "from scipy.stats._distn_infrastructure import rv_continuous\n",
    "\n",
    "from scipy import special as sp\n",
    "import binopt\n",
    "\n",
    "%matplotlib inline\n",
    "# plt.style.use('physics')\n",
    "\n",
    "plt.rcParams['axes.grid'       ]  = False\n",
    "plt.rcParams['xtick.labelsize' ]  = 14\n",
    "plt.rcParams['ytick.labelsize' ]  = 14\n",
    "plt.rcParams['axes.labelsize'  ]  = 14\n",
    "plt.rcParams['legend.fancybox' ]  = False\n",
    "\n",
    "pd.options.mode.chained_assignment = None"
   ]
  },
  {
   "cell_type": "code",
   "execution_count": 2,
   "metadata": {},
   "outputs": [],
   "source": [
    "# low mass\n",
    "df = pd.read_hdf('BoundaryOpt_Feb2019_Bkg-ggh.h5') # "
   ]
  },
  {
   "cell_type": "code",
   "execution_count": 3,
   "metadata": {
    "scrolled": true
   },
   "outputs": [
    {
     "data": {
      "text/plain": [
       "array(['dipho', 'ggh', 'gjet', 'qcd', 'sign'], dtype=object)"
      ]
     },
     "execution_count": 3,
     "metadata": {},
     "output_type": "execute_result"
    }
   ],
   "source": [
    "np.unique(df['sample'])"
   ]
  },
  {
   "cell_type": "code",
   "execution_count": 4,
   "metadata": {},
   "outputs": [
    {
     "data": {
      "text/html": [
       "<div>\n",
       "<style scoped>\n",
       "    .dataframe tbody tr th:only-of-type {\n",
       "        vertical-align: middle;\n",
       "    }\n",
       "\n",
       "    .dataframe tbody tr th {\n",
       "        vertical-align: top;\n",
       "    }\n",
       "\n",
       "    .dataframe thead th {\n",
       "        text-align: right;\n",
       "    }\n",
       "</style>\n",
       "<table border=\"1\" class=\"dataframe\">\n",
       "  <thead>\n",
       "    <tr style=\"text-align: right;\">\n",
       "      <th></th>\n",
       "      <th>dijet_LeadJPt</th>\n",
       "      <th>dijet_SubJPt</th>\n",
       "      <th>dijet_abs_dEta</th>\n",
       "      <th>dijet_Mjj</th>\n",
       "      <th>dijet_dipho_dphi_trunc</th>\n",
       "      <th>dijet_dipho_dphi</th>\n",
       "      <th>leadPho_PToM</th>\n",
       "      <th>sublPho_PToM</th>\n",
       "      <th>dipho_PToM</th>\n",
       "      <th>dipho_mva</th>\n",
       "      <th>dijet_mva</th>\n",
       "      <th>dipho_dijet_MVA</th>\n",
       "      <th>dijet_minDRJetPho</th>\n",
       "      <th>dijet_Zep</th>\n",
       "      <th>dijet_dphi</th>\n",
       "      <th>dipho_mass</th>\n",
       "      <th>weight</th>\n",
       "      <th>sample</th>\n",
       "      <th>Y</th>\n",
       "    </tr>\n",
       "  </thead>\n",
       "  <tbody>\n",
       "    <tr>\n",
       "      <th>0</th>\n",
       "      <td>83.956253</td>\n",
       "      <td>54.704861</td>\n",
       "      <td>3.972195</td>\n",
       "      <td>487.604523</td>\n",
       "      <td>2.941600</td>\n",
       "      <td>3.027010</td>\n",
       "      <td>1.471198</td>\n",
       "      <td>0.344576</td>\n",
       "      <td>1.795790</td>\n",
       "      <td>0.695890</td>\n",
       "      <td>0.304356</td>\n",
       "      <td>0.512101</td>\n",
       "      <td>2.894457</td>\n",
       "      <td>1.650994</td>\n",
       "      <td>0.756914</td>\n",
       "      <td>86.893074</td>\n",
       "      <td>-0.009839</td>\n",
       "      <td>sign</td>\n",
       "      <td>1.0</td>\n",
       "    </tr>\n",
       "    <tr>\n",
       "      <th>1</th>\n",
       "      <td>116.253372</td>\n",
       "      <td>66.077904</td>\n",
       "      <td>4.222458</td>\n",
       "      <td>734.435425</td>\n",
       "      <td>2.912361</td>\n",
       "      <td>2.912361</td>\n",
       "      <td>0.511307</td>\n",
       "      <td>0.486596</td>\n",
       "      <td>0.098913</td>\n",
       "      <td>0.247714</td>\n",
       "      <td>0.011805</td>\n",
       "      <td>0.366422</td>\n",
       "      <td>0.664184</td>\n",
       "      <td>3.519514</td>\n",
       "      <td>2.834856</td>\n",
       "      <td>90.761864</td>\n",
       "      <td>0.012357</td>\n",
       "      <td>sign</td>\n",
       "      <td>1.0</td>\n",
       "    </tr>\n",
       "    <tr>\n",
       "      <th>2</th>\n",
       "      <td>186.902924</td>\n",
       "      <td>63.367134</td>\n",
       "      <td>7.043717</td>\n",
       "      <td>3686.878418</td>\n",
       "      <td>2.941600</td>\n",
       "      <td>3.041730</td>\n",
       "      <td>0.893491</td>\n",
       "      <td>0.429932</td>\n",
       "      <td>1.003458</td>\n",
       "      <td>0.591548</td>\n",
       "      <td>0.913009</td>\n",
       "      <td>0.920536</td>\n",
       "      <td>2.726236</td>\n",
       "      <td>1.316373</td>\n",
       "      <td>3.128963</td>\n",
       "      <td>86.976921</td>\n",
       "      <td>0.010753</td>\n",
       "      <td>sign</td>\n",
       "      <td>1.0</td>\n",
       "    </tr>\n",
       "    <tr>\n",
       "      <th>3</th>\n",
       "      <td>59.541355</td>\n",
       "      <td>56.464218</td>\n",
       "      <td>8.126570</td>\n",
       "      <td>3372.178955</td>\n",
       "      <td>2.941600</td>\n",
       "      <td>3.028491</td>\n",
       "      <td>0.629867</td>\n",
       "      <td>0.454643</td>\n",
       "      <td>1.064794</td>\n",
       "      <td>0.600556</td>\n",
       "      <td>0.891809</td>\n",
       "      <td>0.934031</td>\n",
       "      <td>3.959622</td>\n",
       "      <td>0.304246</td>\n",
       "      <td>1.109837</td>\n",
       "      <td>90.646851</td>\n",
       "      <td>0.007024</td>\n",
       "      <td>sign</td>\n",
       "      <td>1.0</td>\n",
       "    </tr>\n",
       "    <tr>\n",
       "      <th>4</th>\n",
       "      <td>94.403702</td>\n",
       "      <td>54.080784</td>\n",
       "      <td>3.321884</td>\n",
       "      <td>374.739227</td>\n",
       "      <td>2.902826</td>\n",
       "      <td>2.902826</td>\n",
       "      <td>0.897126</td>\n",
       "      <td>0.706207</td>\n",
       "      <td>1.591184</td>\n",
       "      <td>0.429133</td>\n",
       "      <td>0.313785</td>\n",
       "      <td>0.420558</td>\n",
       "      <td>2.488332</td>\n",
       "      <td>0.546378</td>\n",
       "      <td>1.334557</td>\n",
       "      <td>89.075813</td>\n",
       "      <td>0.000859</td>\n",
       "      <td>sign</td>\n",
       "      <td>1.0</td>\n",
       "    </tr>\n",
       "  </tbody>\n",
       "</table>\n",
       "</div>"
      ],
      "text/plain": [
       "   dijet_LeadJPt  dijet_SubJPt  dijet_abs_dEta    dijet_Mjj  \\\n",
       "0      83.956253     54.704861        3.972195   487.604523   \n",
       "1     116.253372     66.077904        4.222458   734.435425   \n",
       "2     186.902924     63.367134        7.043717  3686.878418   \n",
       "3      59.541355     56.464218        8.126570  3372.178955   \n",
       "4      94.403702     54.080784        3.321884   374.739227   \n",
       "\n",
       "   dijet_dipho_dphi_trunc  dijet_dipho_dphi  leadPho_PToM  sublPho_PToM  \\\n",
       "0                2.941600          3.027010      1.471198      0.344576   \n",
       "1                2.912361          2.912361      0.511307      0.486596   \n",
       "2                2.941600          3.041730      0.893491      0.429932   \n",
       "3                2.941600          3.028491      0.629867      0.454643   \n",
       "4                2.902826          2.902826      0.897126      0.706207   \n",
       "\n",
       "   dipho_PToM  dipho_mva  dijet_mva  dipho_dijet_MVA  dijet_minDRJetPho  \\\n",
       "0    1.795790   0.695890   0.304356         0.512101           2.894457   \n",
       "1    0.098913   0.247714   0.011805         0.366422           0.664184   \n",
       "2    1.003458   0.591548   0.913009         0.920536           2.726236   \n",
       "3    1.064794   0.600556   0.891809         0.934031           3.959622   \n",
       "4    1.591184   0.429133   0.313785         0.420558           2.488332   \n",
       "\n",
       "   dijet_Zep  dijet_dphi  dipho_mass    weight sample    Y  \n",
       "0   1.650994    0.756914   86.893074 -0.009839   sign  1.0  \n",
       "1   3.519514    2.834856   90.761864  0.012357   sign  1.0  \n",
       "2   1.316373    3.128963   86.976921  0.010753   sign  1.0  \n",
       "3   0.304246    1.109837   90.646851  0.007024   sign  1.0  \n",
       "4   0.546378    1.334557   89.075813  0.000859   sign  1.0  "
      ]
     },
     "execution_count": 4,
     "metadata": {},
     "output_type": "execute_result"
    }
   ],
   "source": [
    "df.head()"
   ]
  },
  {
   "cell_type": "code",
   "execution_count": 5,
   "metadata": {},
   "outputs": [
    {
     "data": {
      "text/plain": [
       "array(['dijet_LeadJPt', 'dijet_SubJPt', 'dijet_abs_dEta', 'dijet_Mjj',\n",
       "       'dijet_dipho_dphi_trunc', 'dijet_dipho_dphi', 'leadPho_PToM',\n",
       "       'sublPho_PToM', 'dipho_PToM', 'dipho_mva', 'dijet_mva',\n",
       "       'dipho_dijet_MVA', 'dijet_minDRJetPho', 'dijet_Zep', 'dijet_dphi',\n",
       "       'dipho_mass', 'weight', 'sample', 'Y'], dtype=object)"
      ]
     },
     "execution_count": 5,
     "metadata": {},
     "output_type": "execute_result"
    }
   ],
   "source": [
    "# VBF preselection cut for training\n",
    "def vbf_presel(data):\n",
    "    return (\n",
    "#         data[\"weight\"] * (\n",
    "        (data[\"leadPho_PToM\"       ]> 0.47)&  # SM cut\n",
    "        (data[\"sublPho_PToM\"       ]> 0.28)&\n",
    "        (data[\"dijet_LeadJPt\"      ]> 40     )& \n",
    "        (data[\"dijet_SubJPt\"       ]> 30     )&\n",
    "        (data[\"dijet_Mjj\"          ]> 250    )&  # 250\n",
    "        (data[\"dipho_mass\"         ]> 65    )&  # 100  (low mass 55 or 65??)\n",
    "        (data[\"dipho_mass\"         ]< 120    ))  # 180\n",
    "\n",
    "df = df[vbf_presel(df)]\n",
    "df.columns.values"
   ]
  },
  {
   "cell_type": "code",
   "execution_count": 6,
   "metadata": {},
   "outputs": [],
   "source": [
    "df_bkgs = df[\n",
    "    (df['sample'] == 'qcd'  ) |\n",
    "    (df['sample'] == 'dipho') |\n",
    "    (df['sample'] == 'gjet') ]\n",
    "    \n",
    "df_sign = df[\n",
    "    (df['sample'] == 'sign')\n",
    "]\n",
    "df_ggh = df[df['sample']=='ggh']"
   ]
  },
  {
   "cell_type": "code",
   "execution_count": 7,
   "metadata": {},
   "outputs": [],
   "source": [
    "I  =  np.concatenate((df_sign['sample'],df_ggh['sample'],df_bkgs['sample']))"
   ]
  },
  {
   "cell_type": "code",
   "execution_count": 8,
   "metadata": {},
   "outputs": [
    {
     "name": "stdout",
     "output_type": "stream",
     "text": [
      "number of classes (samples) inside the dataset ...\n",
      "      gjet nevent =    1186.00\n",
      "       qcd nevent =       2.00\n",
      "       ggh nevent =    3465.00\n",
      "     dipho nevent =  368211.00\n",
      "      sign nevent =    7213.00\n"
     ]
    }
   ],
   "source": [
    "# 2017 low mass ( vbf-ggh-allx0_noQcd )\n",
    "import collections \n",
    "print \"number of classes (samples) inside the dataset ...\"\n",
    "for p in collections.Counter(I):\n",
    "    print \"%10s nevent = %10.2f\" % ( p, df[df['sample']==p].shape[0])"
   ]
  },
  {
   "cell_type": "code",
   "execution_count": 9,
   "metadata": {},
   "outputs": [],
   "source": [
    "rng = np.random.RandomState(15)  # deterministic random data\n",
    "\n",
    "# s = df_sign.dijet_bdt\n",
    "# b = df_bkgs.dijet_bdt\n",
    "s = df_sign.dipho_dijet_MVA\n",
    "b = df_bkgs.dipho_dijet_MVA\n",
    "\n",
    "ms = df_sign.dipho_mass\n",
    "mb = df_bkgs.dipho_mass\n",
    "\n",
    "\n",
    "ws = df_sign.weight\n",
    "wb = df_bkgs.weight * 1.38 # 0.679 (wrong result with loose cut for gj and jj)\n",
    "\n",
    "X = np.concatenate([s,b])\n",
    "Y = np.concatenate([np.ones(s.shape[0]), np.zeros(b.shape[0])])\n",
    "W = np.concatenate([ws,wb])\n",
    "M = np.concatenate([ms,mb])\n",
    "\n",
    "we_s, x = np.histogram(s, bins=50, range=[-1,1], weights=ws**2)\n",
    "we_b, _ = np.histogram(b, bins=50, range=[-1,1], weights=wb**2)\n",
    "\n",
    "he_s, _ = np.histogram(s, bins=50, range=[-1,1], weights=ws)\n",
    "he_b, _ = np.histogram(b, bins=50, range=[-1,1], weights=wb)"
   ]
  },
  {
   "cell_type": "code",
   "execution_count": 10,
   "metadata": {
    "scrolled": true
   },
   "outputs": [
    {
     "name": "stdout",
     "output_type": "stream",
     "text": [
      "Help on class optimize_bin in module binopt.core:\n",
      "\n",
      "class optimize_bin(binner_base)\n",
      " |  Optimse bining of lableled data.\n",
      " |  \n",
      " |  Method resolution order:\n",
      " |      optimize_bin\n",
      " |      binner_base\n",
      " |      __builtin__.object\n",
      " |  \n",
      " |  Methods defined here:\n",
      " |  \n",
      " |  __init__(self, nbins, range, drop_last_bin=True, fix_upper=True, fix_lower=False, use_kde_density=True, W=None, mass=None)\n",
      " |      Init.\n",
      " |  \n",
      " |  binned_score(self, x, breg=None)\n",
      " |      Binned score.\n",
      " |  \n",
      " |  binned_score_cdf(self, x, breg=None)\n",
      " |  \n",
      " |  binned_score_density(self, x, breg=None)\n",
      " |      Binned score after KDE estimation of the distributions.\n",
      " |  \n",
      " |  binned_score_fit(self, x, breg=None, nsig=1)\n",
      " |      Input should contain a resonance of some sort.\n",
      " |  \n",
      " |  binned_stats(self, x)\n",
      " |      Binned score.\n",
      " |  \n",
      " |  boundary_scan_2d(self, fig=None, title_fmt='.2f', max_n_ticks=5, steps=0.01, label='parameter_scan')\n",
      " |      Fit result displayed on matrix.\n",
      " |  \n",
      " |  cost_fun(self, x, breg=None, lower_bound=None, upper_bound=None)\n",
      " |      Cost function.\n",
      " |  \n",
      " |  covariance_matrix(self)\n",
      " |      Covariance matrix.\n",
      " |  \n",
      " |  fit(self, X, y, sample_weights=None, mass=None, fom='AMS2', method='TNC', breg=None, min_args={})\n",
      " |  \n",
      " |  mass_sigma_effective(self, bounds, mass, X, W, nsig=1)\n",
      " |      Input should contain a resonance of some sort.\n",
      " |  \n",
      " |  optimisation_monitoring(self, fig=None)\n",
      " |      Monitoring the convergence of the fit\n",
      " |  \n",
      " |  ----------------------------------------------------------------------\n",
      " |  Data descriptors inherited from binner_base:\n",
      " |  \n",
      " |  __dict__\n",
      " |      dictionary for instance variables (if defined)\n",
      " |  \n",
      " |  __weakref__\n",
      " |      list of weak references to the object (if defined)\n",
      "\n"
     ]
    }
   ],
   "source": [
    "import binopt\n",
    "help(binopt.optimize_bin)\n",
    "# help(core.optimize_bin)"
   ]
  },
  {
   "cell_type": "markdown",
   "metadata": {},
   "source": [
    "## Boundary Optimization with range [-1,1] (scale factor = 1.38)"
   ]
  },
  {
   "cell_type": "markdown",
   "metadata": {},
   "source": [
    "## 1 bin optimization"
   ]
  },
  {
   "cell_type": "code",
   "execution_count": 11,
   "metadata": {},
   "outputs": [],
   "source": [
    "import binopt\n",
    "# 1 bins\n",
    "binner = binopt.optimize_bin(nbins=1, range=[-1,1], # SM: nbins = 1\n",
    "                             drop_last_bin=True, fix_upper=True, \n",
    "                             fix_lower=True, use_kde_density=False)"
   ]
  },
  {
   "cell_type": "code",
   "execution_count": 11,
   "metadata": {},
   "outputs": [],
   "source": [
    "# 8 May 2019 (20:35 after removing some parameter \"mass\" from \"fit\" function)\n",
    "import core\n",
    "# 1 bins\n",
    "binner = core.optimize_bin(nbins=1, range=[-1,1], # SM: nbins = 1\n",
    "                             drop_last_bin=True, fix_upper=True, \n",
    "                             fix_lower=True, use_kde_density=False)"
   ]
  },
  {
   "cell_type": "code",
   "execution_count": 12,
   "metadata": {
    "scrolled": true
   },
   "outputs": [
    {
     "name": "stdout",
     "output_type": "stream",
     "text": [
      "breg =  5\n",
      "cost function :  [0.]\n",
      "     function :  [1.] 1 None\n",
      "[1 1 1 ... 1 1 1]\n"
     ]
    },
    {
     "name": "stderr",
     "output_type": "stream",
     "text": [
      "/cvmfs/sft.cern.ch/lcg/views/LCG_95a/x86_64-centos7-gcc7-opt/lib/python2.7/site-packages/scipy/optimize/_minimize.py:518: RuntimeWarning: Method Nelder-Mead cannot handle constraints nor bounds.\n",
      "  RuntimeWarning)\n"
     ]
    },
    {
     "ename": "ValueError",
     "evalue": "operands could not be broadcast together with shapes (369399,) (0,) ",
     "output_type": "error",
     "traceback": [
      "\u001b[0;31m\u001b[0m",
      "\u001b[0;31mValueError\u001b[0mTraceback (most recent call last)",
      "\u001b[0;32m<ipython-input-12-4c6ee1ffafb3>\u001b[0m in \u001b[0;36m<module>\u001b[0;34m()\u001b[0m\n\u001b[1;32m      1\u001b[0m \u001b[0;31m# 9 May 2019 (12:30 : use core.py in installed packag\u001b[0m\u001b[0;34m\u001b[0m\u001b[0;34m\u001b[0m\u001b[0m\n\u001b[0;32m----> 2\u001b[0;31m \u001b[0mbinner\u001b[0m\u001b[0;34m.\u001b[0m\u001b[0mfit\u001b[0m\u001b[0;34m(\u001b[0m\u001b[0mX\u001b[0m\u001b[0;34m,\u001b[0m \u001b[0mY\u001b[0m\u001b[0;34m,\u001b[0m\u001b[0msample_weights\u001b[0m\u001b[0;34m=\u001b[0m\u001b[0mW\u001b[0m\u001b[0;34m,\u001b[0m \u001b[0mmass\u001b[0m\u001b[0;34m=\u001b[0m\u001b[0mM\u001b[0m\u001b[0;34m,\u001b[0m \u001b[0mmethod\u001b[0m\u001b[0;34m=\u001b[0m\u001b[0;34m\"Nelder-Mead\"\u001b[0m\u001b[0;34m,\u001b[0m \u001b[0mbreg\u001b[0m\u001b[0;34m=\u001b[0m\u001b[0;36m5\u001b[0m\u001b[0;34m,\u001b[0m \u001b[0mfom\u001b[0m\u001b[0;34m=\u001b[0m\u001b[0;34m\"AMS3\"\u001b[0m\u001b[0;34m)\u001b[0m\u001b[0;34m\u001b[0m\u001b[0m\n\u001b[0m",
      "\u001b[0;32m/eos/home-s/sizhang/binopt/VBF_BoundaryOpt/core.py\u001b[0m in \u001b[0;36mfit\u001b[0;34m(self, X, y, sample_weights, mass, fom, method, breg, min_args)\u001b[0m\n\u001b[1;32m    347\u001b[0m \u001b[0;31m#                       max(self.range), self.sample_weights, self.mass), # (Sijing)\u001b[0m\u001b[0;34m\u001b[0m\u001b[0;34m\u001b[0m\u001b[0m\n\u001b[1;32m    348\u001b[0m                 \u001b[0mbounds\u001b[0m\u001b[0;34m=\u001b[0m\u001b[0m_bounds_\u001b[0m\u001b[0;34m,\u001b[0m\u001b[0;34m\u001b[0m\u001b[0m\n\u001b[0;32m--> 349\u001b[0;31m                 \u001b[0mmethod\u001b[0m\u001b[0;34m=\u001b[0m\u001b[0;34m'Nelder-Mead'\u001b[0m\u001b[0;34m\u001b[0m\u001b[0m\n\u001b[0m\u001b[1;32m    350\u001b[0m             )\n\u001b[1;32m    351\u001b[0m             \u001b[0mself\u001b[0m\u001b[0;34m.\u001b[0m\u001b[0mx_init\u001b[0m \u001b[0;34m=\u001b[0m \u001b[0mself\u001b[0m\u001b[0;34m.\u001b[0m\u001b[0mresult\u001b[0m\u001b[0;34m.\u001b[0m\u001b[0mx\u001b[0m\u001b[0;34m\u001b[0m\u001b[0m\n",
      "\u001b[0;32m/cvmfs/sft.cern.ch/lcg/views/LCG_95a/x86_64-centos7-gcc7-opt/lib/python2.7/site-packages/scipy/optimize/_minimize.pyc\u001b[0m in \u001b[0;36mminimize\u001b[0;34m(fun, x0, args, method, jac, hess, hessp, bounds, constraints, tol, callback, options)\u001b[0m\n\u001b[1;32m    589\u001b[0m                       callback=callback, **options)\n\u001b[1;32m    590\u001b[0m     \u001b[0;32melif\u001b[0m \u001b[0mmeth\u001b[0m \u001b[0;34m==\u001b[0m \u001b[0;34m'nelder-mead'\u001b[0m\u001b[0;34m:\u001b[0m\u001b[0;34m\u001b[0m\u001b[0m\n\u001b[0;32m--> 591\u001b[0;31m         \u001b[0;32mreturn\u001b[0m \u001b[0m_minimize_neldermead\u001b[0m\u001b[0;34m(\u001b[0m\u001b[0mfun\u001b[0m\u001b[0;34m,\u001b[0m \u001b[0mx0\u001b[0m\u001b[0;34m,\u001b[0m \u001b[0margs\u001b[0m\u001b[0;34m,\u001b[0m \u001b[0mcallback\u001b[0m\u001b[0;34m,\u001b[0m \u001b[0;34m**\u001b[0m\u001b[0moptions\u001b[0m\u001b[0;34m)\u001b[0m\u001b[0;34m\u001b[0m\u001b[0m\n\u001b[0m\u001b[1;32m    592\u001b[0m     \u001b[0;32melif\u001b[0m \u001b[0mmeth\u001b[0m \u001b[0;34m==\u001b[0m \u001b[0;34m'powell'\u001b[0m\u001b[0;34m:\u001b[0m\u001b[0;34m\u001b[0m\u001b[0m\n\u001b[1;32m    593\u001b[0m         \u001b[0;32mreturn\u001b[0m \u001b[0m_minimize_powell\u001b[0m\u001b[0;34m(\u001b[0m\u001b[0mfun\u001b[0m\u001b[0;34m,\u001b[0m \u001b[0mx0\u001b[0m\u001b[0;34m,\u001b[0m \u001b[0margs\u001b[0m\u001b[0;34m,\u001b[0m \u001b[0mcallback\u001b[0m\u001b[0;34m,\u001b[0m \u001b[0;34m**\u001b[0m\u001b[0moptions\u001b[0m\u001b[0;34m)\u001b[0m\u001b[0;34m\u001b[0m\u001b[0m\n",
      "\u001b[0;32m/cvmfs/sft.cern.ch/lcg/views/LCG_95a/x86_64-centos7-gcc7-opt/lib/python2.7/site-packages/scipy/optimize/optimize.pyc\u001b[0m in \u001b[0;36m_minimize_neldermead\u001b[0;34m(func, x0, args, callback, maxiter, maxfev, disp, return_all, initial_simplex, xatol, fatol, adaptive, **unknown_options)\u001b[0m\n\u001b[1;32m    550\u001b[0m \u001b[0;34m\u001b[0m\u001b[0m\n\u001b[1;32m    551\u001b[0m     \u001b[0;32mfor\u001b[0m \u001b[0mk\u001b[0m \u001b[0;32min\u001b[0m \u001b[0mrange\u001b[0m\u001b[0;34m(\u001b[0m\u001b[0mN\u001b[0m \u001b[0;34m+\u001b[0m \u001b[0;36m1\u001b[0m\u001b[0;34m)\u001b[0m\u001b[0;34m:\u001b[0m\u001b[0;34m\u001b[0m\u001b[0m\n\u001b[0;32m--> 552\u001b[0;31m         \u001b[0mfsim\u001b[0m\u001b[0;34m[\u001b[0m\u001b[0mk\u001b[0m\u001b[0;34m]\u001b[0m \u001b[0;34m=\u001b[0m \u001b[0mfunc\u001b[0m\u001b[0;34m(\u001b[0m\u001b[0msim\u001b[0m\u001b[0;34m[\u001b[0m\u001b[0mk\u001b[0m\u001b[0;34m]\u001b[0m\u001b[0;34m)\u001b[0m\u001b[0;34m\u001b[0m\u001b[0m\n\u001b[0m\u001b[1;32m    553\u001b[0m \u001b[0;34m\u001b[0m\u001b[0m\n\u001b[1;32m    554\u001b[0m     \u001b[0mind\u001b[0m \u001b[0;34m=\u001b[0m \u001b[0mnumpy\u001b[0m\u001b[0;34m.\u001b[0m\u001b[0margsort\u001b[0m\u001b[0;34m(\u001b[0m\u001b[0mfsim\u001b[0m\u001b[0;34m)\u001b[0m\u001b[0;34m\u001b[0m\u001b[0m\n",
      "\u001b[0;32m/cvmfs/sft.cern.ch/lcg/views/LCG_95a/x86_64-centos7-gcc7-opt/lib/python2.7/site-packages/scipy/optimize/optimize.pyc\u001b[0m in \u001b[0;36mfunction_wrapper\u001b[0;34m(*wrapper_args)\u001b[0m\n\u001b[1;32m    291\u001b[0m     \u001b[0;32mdef\u001b[0m \u001b[0mfunction_wrapper\u001b[0m\u001b[0;34m(\u001b[0m\u001b[0;34m*\u001b[0m\u001b[0mwrapper_args\u001b[0m\u001b[0;34m)\u001b[0m\u001b[0;34m:\u001b[0m\u001b[0;34m\u001b[0m\u001b[0m\n\u001b[1;32m    292\u001b[0m         \u001b[0mncalls\u001b[0m\u001b[0;34m[\u001b[0m\u001b[0;36m0\u001b[0m\u001b[0;34m]\u001b[0m \u001b[0;34m+=\u001b[0m \u001b[0;36m1\u001b[0m\u001b[0;34m\u001b[0m\u001b[0m\n\u001b[0;32m--> 293\u001b[0;31m         \u001b[0;32mreturn\u001b[0m \u001b[0mfunction\u001b[0m\u001b[0;34m(\u001b[0m\u001b[0;34m*\u001b[0m\u001b[0;34m(\u001b[0m\u001b[0mwrapper_args\u001b[0m \u001b[0;34m+\u001b[0m \u001b[0margs\u001b[0m\u001b[0;34m)\u001b[0m\u001b[0;34m)\u001b[0m\u001b[0;34m\u001b[0m\u001b[0m\n\u001b[0m\u001b[1;32m    294\u001b[0m \u001b[0;34m\u001b[0m\u001b[0m\n\u001b[1;32m    295\u001b[0m     \u001b[0;32mreturn\u001b[0m \u001b[0mncalls\u001b[0m\u001b[0;34m,\u001b[0m \u001b[0mfunction_wrapper\u001b[0m\u001b[0;34m\u001b[0m\u001b[0m\n",
      "\u001b[0;32m/eos/home-s/sizhang/binopt/VBF_BoundaryOpt/core.py\u001b[0m in \u001b[0;36mcost_fun\u001b[0;34m(self, x, breg, lower_bound, upper_bound)\u001b[0m\n\u001b[1;32m    267\u001b[0m \u001b[0;31m#                 z = self.binned_score(x, breg)\u001b[0m\u001b[0;34m\u001b[0m\u001b[0;34m\u001b[0m\u001b[0m\n\u001b[1;32m    268\u001b[0m \u001b[0;31m#                 z = self.binned_score_mgg(x, breg) # use binned_score_mgg() function\u001b[0m\u001b[0;34m\u001b[0m\u001b[0;34m\u001b[0m\u001b[0m\n\u001b[0;32m--> 269\u001b[0;31m                 \u001b[0mz\u001b[0m \u001b[0;34m=\u001b[0m \u001b[0mself\u001b[0m\u001b[0;34m.\u001b[0m\u001b[0mbinned_score_fit\u001b[0m\u001b[0;34m(\u001b[0m\u001b[0mx\u001b[0m\u001b[0;34m,\u001b[0m \u001b[0mbreg\u001b[0m\u001b[0;34m)\u001b[0m \u001b[0;31m# use binned_score_fit() function\u001b[0m\u001b[0;34m\u001b[0m\u001b[0m\n\u001b[0m\u001b[1;32m    270\u001b[0m         \u001b[0;32mif\u001b[0m \u001b[0mself\u001b[0m\u001b[0;34m.\u001b[0m\u001b[0mdrop_last_bin\u001b[0m\u001b[0;34m:\u001b[0m\u001b[0;34m\u001b[0m\u001b[0m\n\u001b[1;32m    271\u001b[0m             \u001b[0;31m# _v_ = np.insert(np.sort(x), 0, [-np.sqrt((z[1:]**2).sum())])\u001b[0m\u001b[0;34m\u001b[0m\u001b[0;34m\u001b[0m\u001b[0m\n",
      "\u001b[0;32m/eos/home-s/sizhang/binopt/VBF_BoundaryOpt/core.py\u001b[0m in \u001b[0;36mbinned_score_fit\u001b[0;34m(self, x, breg, nsig)\u001b[0m\n\u001b[1;32m    224\u001b[0m                 \u001b[0;32melse\u001b[0m\u001b[0;34m:\u001b[0m\u001b[0;34m\u001b[0m\u001b[0m\n\u001b[1;32m    225\u001b[0m                     \u001b[0;32mreturn\u001b[0m \u001b[0mout\u001b[0m\u001b[0;34m\u001b[0m\u001b[0m\n\u001b[0;32m--> 226\u001b[0;31m             \u001b[0m_fit\u001b[0m \u001b[0;34m=\u001b[0m \u001b[0mminimize\u001b[0m\u001b[0;34m(\u001b[0m\u001b[0m_obj\u001b[0m\u001b[0;34m,\u001b[0m \u001b[0mx0\u001b[0m\u001b[0;34m=\u001b[0m\u001b[0;34m[\u001b[0m\u001b[0;36m0.03\u001b[0m\u001b[0;34m]\u001b[0m\u001b[0;34m,\u001b[0m \u001b[0mmethod\u001b[0m\u001b[0;34m=\u001b[0m\u001b[0;34m'Powell'\u001b[0m\u001b[0;34m)\u001b[0m\u001b[0;34m\u001b[0m\u001b[0m\n\u001b[0m\u001b[1;32m    227\u001b[0m             min_, max_ = binopt.tools.weighted_quantile(\n\u001b[1;32m    228\u001b[0m \u001b[0;31m#                 self.mass[(_cats_ == cid) & (self.y==1)],\u001b[0m\u001b[0;34m\u001b[0m\u001b[0;34m\u001b[0m\u001b[0m\n",
      "\u001b[0;32m/cvmfs/sft.cern.ch/lcg/views/LCG_95a/x86_64-centos7-gcc7-opt/lib/python2.7/site-packages/scipy/optimize/_minimize.pyc\u001b[0m in \u001b[0;36mminimize\u001b[0;34m(fun, x0, args, method, jac, hess, hessp, bounds, constraints, tol, callback, options)\u001b[0m\n\u001b[1;32m    591\u001b[0m         \u001b[0;32mreturn\u001b[0m \u001b[0m_minimize_neldermead\u001b[0m\u001b[0;34m(\u001b[0m\u001b[0mfun\u001b[0m\u001b[0;34m,\u001b[0m \u001b[0mx0\u001b[0m\u001b[0;34m,\u001b[0m \u001b[0margs\u001b[0m\u001b[0;34m,\u001b[0m \u001b[0mcallback\u001b[0m\u001b[0;34m,\u001b[0m \u001b[0;34m**\u001b[0m\u001b[0moptions\u001b[0m\u001b[0;34m)\u001b[0m\u001b[0;34m\u001b[0m\u001b[0m\n\u001b[1;32m    592\u001b[0m     \u001b[0;32melif\u001b[0m \u001b[0mmeth\u001b[0m \u001b[0;34m==\u001b[0m \u001b[0;34m'powell'\u001b[0m\u001b[0;34m:\u001b[0m\u001b[0;34m\u001b[0m\u001b[0m\n\u001b[0;32m--> 593\u001b[0;31m         \u001b[0;32mreturn\u001b[0m \u001b[0m_minimize_powell\u001b[0m\u001b[0;34m(\u001b[0m\u001b[0mfun\u001b[0m\u001b[0;34m,\u001b[0m \u001b[0mx0\u001b[0m\u001b[0;34m,\u001b[0m \u001b[0margs\u001b[0m\u001b[0;34m,\u001b[0m \u001b[0mcallback\u001b[0m\u001b[0;34m,\u001b[0m \u001b[0;34m**\u001b[0m\u001b[0moptions\u001b[0m\u001b[0;34m)\u001b[0m\u001b[0;34m\u001b[0m\u001b[0m\n\u001b[0m\u001b[1;32m    594\u001b[0m     \u001b[0;32melif\u001b[0m \u001b[0mmeth\u001b[0m \u001b[0;34m==\u001b[0m \u001b[0;34m'cg'\u001b[0m\u001b[0;34m:\u001b[0m\u001b[0;34m\u001b[0m\u001b[0m\n\u001b[1;32m    595\u001b[0m         \u001b[0;32mreturn\u001b[0m \u001b[0m_minimize_cg\u001b[0m\u001b[0;34m(\u001b[0m\u001b[0mfun\u001b[0m\u001b[0;34m,\u001b[0m \u001b[0mx0\u001b[0m\u001b[0;34m,\u001b[0m \u001b[0margs\u001b[0m\u001b[0;34m,\u001b[0m \u001b[0mjac\u001b[0m\u001b[0;34m,\u001b[0m \u001b[0mcallback\u001b[0m\u001b[0;34m,\u001b[0m \u001b[0;34m**\u001b[0m\u001b[0moptions\u001b[0m\u001b[0;34m)\u001b[0m\u001b[0;34m\u001b[0m\u001b[0m\n",
      "\u001b[0;32m/cvmfs/sft.cern.ch/lcg/views/LCG_95a/x86_64-centos7-gcc7-opt/lib/python2.7/site-packages/scipy/optimize/optimize.pyc\u001b[0m in \u001b[0;36m_minimize_powell\u001b[0;34m(func, x0, args, callback, xtol, ftol, maxiter, maxfev, disp, direc, return_all, **unknown_options)\u001b[0m\n\u001b[1;32m   2558\u001b[0m         \u001b[0mdirec\u001b[0m \u001b[0;34m=\u001b[0m \u001b[0masarray\u001b[0m\u001b[0;34m(\u001b[0m\u001b[0mdirec\u001b[0m\u001b[0;34m,\u001b[0m \u001b[0mdtype\u001b[0m\u001b[0;34m=\u001b[0m\u001b[0mfloat\u001b[0m\u001b[0;34m)\u001b[0m\u001b[0;34m\u001b[0m\u001b[0m\n\u001b[1;32m   2559\u001b[0m \u001b[0;34m\u001b[0m\u001b[0m\n\u001b[0;32m-> 2560\u001b[0;31m     \u001b[0mfval\u001b[0m \u001b[0;34m=\u001b[0m \u001b[0msqueeze\u001b[0m\u001b[0;34m(\u001b[0m\u001b[0mfunc\u001b[0m\u001b[0;34m(\u001b[0m\u001b[0mx\u001b[0m\u001b[0;34m)\u001b[0m\u001b[0;34m)\u001b[0m\u001b[0;34m\u001b[0m\u001b[0m\n\u001b[0m\u001b[1;32m   2561\u001b[0m     \u001b[0mx1\u001b[0m \u001b[0;34m=\u001b[0m \u001b[0mx\u001b[0m\u001b[0;34m.\u001b[0m\u001b[0mcopy\u001b[0m\u001b[0;34m(\u001b[0m\u001b[0;34m)\u001b[0m\u001b[0;34m\u001b[0m\u001b[0m\n\u001b[1;32m   2562\u001b[0m     \u001b[0miter\u001b[0m \u001b[0;34m=\u001b[0m \u001b[0;36m0\u001b[0m\u001b[0;34m\u001b[0m\u001b[0m\n",
      "\u001b[0;32m/cvmfs/sft.cern.ch/lcg/views/LCG_95a/x86_64-centos7-gcc7-opt/lib/python2.7/site-packages/scipy/optimize/optimize.pyc\u001b[0m in \u001b[0;36mfunction_wrapper\u001b[0;34m(*wrapper_args)\u001b[0m\n\u001b[1;32m    291\u001b[0m     \u001b[0;32mdef\u001b[0m \u001b[0mfunction_wrapper\u001b[0m\u001b[0;34m(\u001b[0m\u001b[0;34m*\u001b[0m\u001b[0mwrapper_args\u001b[0m\u001b[0;34m)\u001b[0m\u001b[0;34m:\u001b[0m\u001b[0;34m\u001b[0m\u001b[0m\n\u001b[1;32m    292\u001b[0m         \u001b[0mncalls\u001b[0m\u001b[0;34m[\u001b[0m\u001b[0;36m0\u001b[0m\u001b[0;34m]\u001b[0m \u001b[0;34m+=\u001b[0m \u001b[0;36m1\u001b[0m\u001b[0;34m\u001b[0m\u001b[0m\n\u001b[0;32m--> 293\u001b[0;31m         \u001b[0;32mreturn\u001b[0m \u001b[0mfunction\u001b[0m\u001b[0;34m(\u001b[0m\u001b[0;34m*\u001b[0m\u001b[0;34m(\u001b[0m\u001b[0mwrapper_args\u001b[0m \u001b[0;34m+\u001b[0m \u001b[0margs\u001b[0m\u001b[0;34m)\u001b[0m\u001b[0;34m)\u001b[0m\u001b[0;34m\u001b[0m\u001b[0m\n\u001b[0m\u001b[1;32m    294\u001b[0m \u001b[0;34m\u001b[0m\u001b[0m\n\u001b[1;32m    295\u001b[0m     \u001b[0;32mreturn\u001b[0m \u001b[0mncalls\u001b[0m\u001b[0;34m,\u001b[0m \u001b[0mfunction_wrapper\u001b[0m\u001b[0;34m\u001b[0m\u001b[0m\n",
      "\u001b[0;32m/eos/home-s/sizhang/binopt/VBF_BoundaryOpt/core.py\u001b[0m in \u001b[0;36m_obj\u001b[0;34m(x)\u001b[0m\n\u001b[1;32m    217\u001b[0m                 \u001b[0mp\u001b[0m \u001b[0;34m=\u001b[0m \u001b[0me\u001b[0m\u001b[0;34m.\u001b[0m\u001b[0mlogpdf\u001b[0m\u001b[0;34m(\u001b[0m\u001b[0mm\u001b[0m\u001b[0;34m)\u001b[0m\u001b[0;34m\u001b[0m\u001b[0m\n\u001b[1;32m    218\u001b[0m                 out = -np.sum(\n\u001b[0;32m--> 219\u001b[0;31m                     \u001b[0mw\u001b[0m \u001b[0;34m*\u001b[0m \u001b[0mp\u001b[0m\u001b[0;34m\u001b[0m\u001b[0m\n\u001b[0m\u001b[1;32m    220\u001b[0m \u001b[0;31m#                     p\u001b[0m\u001b[0;34m\u001b[0m\u001b[0;34m\u001b[0m\u001b[0m\n\u001b[1;32m    221\u001b[0m                 )\n",
      "\u001b[0;31mValueError\u001b[0m: operands could not be broadcast together with shapes (369399,) (0,) "
     ]
    }
   ],
   "source": [
    "# 9 May 2019 (12:30 : use core.py in installed packag\n",
    "binner.fit(X, Y,sample_weights=W, mass=M, method=\"Nelder-Mead\", breg=5, fom=\"AMS3\")"
   ]
  }
 ],
 "metadata": {
  "kernelspec": {
   "display_name": "Python 2",
   "language": "python",
   "name": "python2"
  },
  "language_info": {
   "codemirror_mode": {
    "name": "ipython",
    "version": 2
   },
   "file_extension": ".py",
   "mimetype": "text/x-python",
   "name": "python",
   "nbconvert_exporter": "python",
   "pygments_lexer": "ipython2",
   "version": "2.7.15"
  }
 },
 "nbformat": 4,
 "nbformat_minor": 2
}
