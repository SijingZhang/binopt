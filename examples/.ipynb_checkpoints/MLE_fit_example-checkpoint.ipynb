{
 "cells": [
  {
   "cell_type": "code",
   "execution_count": 1,
   "metadata": {
    "collapsed": true
   },
   "outputs": [],
   "source": [
    "import matplotlib.pyplot as plt\n",
    "import numpy  as np\n",
    "import pandas as pd\n",
    "from scipy.special import logit, expit\n",
    "np.set_printoptions(precision=3)\n",
    "\n",
    "%matplotlib inline\n",
    "plt.style.use('physics')\n",
    "\n",
    "plt.rcParams['axes.grid'       ]  = False\n",
    "plt.rcParams['xtick.labelsize' ]  = 14\n",
    "plt.rcParams['ytick.labelsize' ]  = 14\n",
    "plt.rcParams['axes.labelsize'  ]  = 14\n",
    "plt.rcParams['legend.fancybox' ]  = False\n",
    "\n",
    "pd.options.mode.chained_assignment = None"
   ]
  },
  {
   "cell_type": "code",
   "execution_count": 2,
   "metadata": {},
   "outputs": [
    {
     "data": {
      "image/png": "[encoded data removed]",
      "text/plain": [
       "<matplotlib.figure.Figure at 0x114810ad0>"
      ]
     },
     "metadata": {},
     "output_type": "display_data"
    }
   ],
   "source": [
    "# nevent = 50000\n",
    "sevent = 400\n",
    "bevent = 5000\n",
    "\n",
    "X = np.concatenate((expit(np.random.normal( 2.0,2.0,sevent)),\n",
    "                    expit(np.random.normal(-0.5,2.0,bevent))))\n",
    "M = np.concatenate((np.random.normal(125,1.7,sevent),\n",
    "                    100+np.random.exponential(1/0.05,bevent)))\n",
    "Y = np.concatenate((np.ones (sevent),\n",
    "                    np.zeros(bevent)))\n",
    "W = np.concatenate((0.1*expit(np.random.normal(2,2,sevent)),\n",
    "                    5  *expit(np.random.exponential(2,bevent))\n",
    "                   ))\n",
    "W = np.concatenate( (np.ones(sevent),np.ones(bevent)) )\n",
    "\n",
    "plt.figure(figsize=(4,4))\n",
    "plt.hist(X[Y==1],bins=100, range=[0,1], alpha=0.4, weights=W[Y==1], histtype='stepfilled',lw=1, normed=True)\n",
    "plt.hist(X[Y==0],bins=100, range=[0,1], alpha=0.4, weights=W[Y==0], histtype='stepfilled',lw=1, normed=True)\n",
    "# plt.yscale('log')\n",
    "plt.show()"
   ]
  },
  {
   "cell_type": "code",
   "execution_count": 3,
   "metadata": {},
   "outputs": [
    {
     "data": {
      "text/html": [
       "<div>\n",
       "<table border=\"1\" class=\"dataframe\">\n",
       "  <thead>\n",
       "    <tr style=\"text-align: right;\">\n",
       "      <th></th>\n",
       "      <th>prob</th>\n",
       "      <th>mass</th>\n",
       "      <th>weight</th>\n",
       "      <th>target</th>\n",
       "    </tr>\n",
       "  </thead>\n",
       "  <tbody>\n",
       "    <tr>\n",
       "      <th>0</th>\n",
       "      <td>0.983278</td>\n",
       "      <td>124.580366</td>\n",
       "      <td>1.0</td>\n",
       "      <td>1.0</td>\n",
       "    </tr>\n",
       "    <tr>\n",
       "      <th>1</th>\n",
       "      <td>0.991849</td>\n",
       "      <td>124.782225</td>\n",
       "      <td>1.0</td>\n",
       "      <td>1.0</td>\n",
       "    </tr>\n",
       "    <tr>\n",
       "      <th>2</th>\n",
       "      <td>0.939874</td>\n",
       "      <td>125.209637</td>\n",
       "      <td>1.0</td>\n",
       "      <td>1.0</td>\n",
       "    </tr>\n",
       "    <tr>\n",
       "      <th>3</th>\n",
       "      <td>0.991059</td>\n",
       "      <td>123.591207</td>\n",
       "      <td>1.0</td>\n",
       "      <td>1.0</td>\n",
       "    </tr>\n",
       "    <tr>\n",
       "      <th>4</th>\n",
       "      <td>0.754003</td>\n",
       "      <td>124.585897</td>\n",
       "      <td>1.0</td>\n",
       "      <td>1.0</td>\n",
       "    </tr>\n",
       "  </tbody>\n",
       "</table>\n",
       "</div>"
      ],
      "text/plain": [
       "       prob        mass  weight  target\n",
       "0  0.983278  124.580366     1.0     1.0\n",
       "1  0.991849  124.782225     1.0     1.0\n",
       "2  0.939874  125.209637     1.0     1.0\n",
       "3  0.991059  123.591207     1.0     1.0\n",
       "4  0.754003  124.585897     1.0     1.0"
      ]
     },
     "execution_count": 3,
     "metadata": {},
     "output_type": "execute_result"
    }
   ],
   "source": [
    "df = pd.DataFrame(np.hstack((X.reshape (X.shape[0] , -1),\n",
    "                             M.reshape (M.shape[0] , -1),\n",
    "                             W.reshape (W.shape[0] , -1),\n",
    "                             Y.reshape (Y.shape[0] , -1))), \n",
    "                  columns=['prob','mass','weight','target'])\n",
    "df.head()"
   ]
  },
  {
   "cell_type": "code",
   "execution_count": 4,
   "metadata": {},
   "outputs": [
    {
     "data": {
      "image/png": "[encoded data removed]",
      "text/plain": [
       "<matplotlib.figure.Figure at 0x114852a10>"
      ]
     },
     "metadata": {},
     "output_type": "display_data"
    }
   ],
   "source": [
    "plt.figure(figsize=(6.5,3))\n",
    "plt.subplot(121)\n",
    "plt.hist2d(M[Y==1],X[Y==1],bins=[50,50], range=[[100,200],[0,1]],\n",
    "           weights=W[Y==1],cmap=plt.cm.Spectral_r)\n",
    "plt.subplot(122)\n",
    "plt.hist2d(M[Y==0],X[Y==0],bins=[50,50], range=[[100,200],[0,1]],\n",
    "           weights=W[Y==0],cmap=plt.cm.Spectral_r)\n",
    "plt.show()"
   ]
  },
  {
   "cell_type": "code",
   "execution_count": 5,
   "metadata": {},
   "outputs": [
    {
     "data": {
      "text/plain": [
       "array([0, 1, 2, 3])"
      ]
     },
     "execution_count": 5,
     "metadata": {},
     "output_type": "execute_result"
    }
   ],
   "source": [
    "df.loc[:,'cat'] = pd.cut(df.prob, [0,0.5,0.8,0.99,1], labels= False)\n",
    "np.unique(df.cat)"
   ]
  },
  {
   "cell_type": "code",
   "execution_count": 6,
   "metadata": {},
   "outputs": [
    {
     "data": {
      "text/plain": [
       "<matplotlib.legend.Legend at 0x110d63510>"
      ]
     },
     "execution_count": 6,
     "metadata": {},
     "output_type": "execute_result"
    },
    {
     "data": {
      "image/png": "[encoded data removed]",
      "text/plain": [
       "<matplotlib.figure.Figure at 0x11485f610>"
      ]
     },
     "metadata": {},
     "output_type": "display_data"
    }
   ],
   "source": [
    "plt.figure(figsize=(6,4))\n",
    "for i in np.unique(df.cat):\n",
    "    plt.hist(df[df.cat == i].mass,bins=80, range=[100,180], \n",
    "             weights=df[df.cat == i].weight, \n",
    "             histtype='step',\n",
    "             lw=1,label=str(i) )\n",
    "# plt.yscale('log')\n",
    "# plt.ylim([0.1,100*bevent])\n",
    "plt.legend()"
   ]
  },
  {
   "cell_type": "code",
   "execution_count": 7,
   "metadata": {},
   "outputs": [
    {
     "data": {
      "text/plain": [
       "<matplotlib.text.Text at 0x114e6bd90>"
      ]
     },
     "execution_count": 7,
     "metadata": {},
     "output_type": "execute_result"
    },
    {
     "data": {
      "image/png": "[encoded data removed]",
      "text/plain": [
       "<matplotlib.figure.Figure at 0x114e1d890>"
      ]
     },
     "metadata": {},
     "output_type": "display_data"
    }
   ],
   "source": [
    "def expit(x):\n",
    "    return 1 / (1 + np.exp(-x))\n",
    "\n",
    "plt.figure(figsize=(6,4))\n",
    "t = np.linspace(-10,10, 100)\n",
    "plt.plot(t, expit(t), 'r-', lw=2)\n",
    "plt.xlabel('t')\n",
    "plt.ylabel('$1 /(1 + e^{-t})$')"
   ]
  },
  {
   "cell_type": "code",
   "execution_count": 8,
   "metadata": {
    "collapsed": true
   },
   "outputs": [],
   "source": [
    "import scipy.stats as st\n",
    "from scipy.optimize import minimize"
   ]
  },
  {
   "cell_type": "code",
   "execution_count": 9,
   "metadata": {
    "collapsed": true
   },
   "outputs": [],
   "source": [
    "def exponotial(x, pos, lamb):\n",
    "    return lamb * np.exp( -lamb * (x - pos) )\n",
    "\n",
    "def logpdf(params, data):\n",
    "    f, mu1,mu2, sigma, lamb = params\n",
    "    p1 = np.log(    expit(f)) + st.norm.logpdf (data, loc=mu1, scale=np.exp(sigma))\n",
    "    p2 = st.expon.logpdf(data, loc=mu2, scale=np.exp(lamb ))\n",
    "    return np.logaddexp(p1, p2)\n",
    "\n",
    "def nll(params, data):\n",
    "    out = -np.sum(logpdf(params, data))\n",
    "    return out"
   ]
  },
  {
   "cell_type": "code",
   "execution_count": 10,
   "metadata": {
    "collapsed": true
   },
   "outputs": [],
   "source": [
    "_data_ = df.mass\n",
    "\n",
    "def objective(x):\n",
    "    params = x \n",
    "    out = nll(params, _data_)\n",
    "    if np.isnan(out):\n",
    "        raise ValueError(\"Illegal probability {}\".format(params))\n",
    "    return out"
   ]
  },
  {
   "cell_type": "code",
   "execution_count": 11,
   "metadata": {},
   "outputs": [
    {
     "data": {
      "text/plain": [
       "[<matplotlib.lines.Line2D at 0x114a0ef50>]"
      ]
     },
     "execution_count": 11,
     "metadata": {},
     "output_type": "execute_result"
    },
    {
     "data": {
      "image/png": "[encoded data removed]",
      "text/plain": [
       "<matplotlib.figure.Figure at 0x1158dc110>"
      ]
     },
     "metadata": {},
     "output_type": "display_data"
    }
   ],
   "source": [
    "plt.figure(figsize=(6,4))\n",
    "\"N, f, mu1,mu2, sigma, lamb\"\n",
    "theta = np.linspace(100,180, 800)\n",
    "plt.plot(theta, logpdf([0.1,125,100,1.5,4], theta),  lw=2)"
   ]
  },
  {
   "cell_type": "code",
   "execution_count": 12,
   "metadata": {
    "collapsed": true
   },
   "outputs": [],
   "source": [
    "import numdifftools as nd"
   ]
  },
  {
   "cell_type": "code",
   "execution_count": 13,
   "metadata": {},
   "outputs": [
    {
     "name": "stdout",
     "output_type": "stream",
     "text": [
      "jacobian : "
     ]
    },
    {
     "name": "stderr",
     "output_type": "stream",
     "text": [
      "/usr/local/lib/python2.7/site-packages/scipy/linalg/basic.py:1018: RuntimeWarning: internal gelsd driver lwork query error, required iwork dimension not returned. This is likely the result of LAPACK bug 0038, fixed in LAPACK 3.2.2 (released July 21, 2010). Falling back to 'gelss' driver.\n",
      "  warnings.warn(mesg, RuntimeWarning)\n"
     ]
    },
    {
     "name": "stdout",
     "output_type": "stream",
     "text": [
      " [[ -628.185    67.675  1745.474  -437.276  2651.805]]\n",
      "hessian  : \n",
      "[[  229.473    21.512   -53.042  -293.73   -122.392]\n",
      " [   21.512    12.921   143.502    28.091    44.018]\n",
      " [  -53.042   143.502  -149.565 -3469.859   -41.903]\n",
      " [ -293.73     28.091 -3469.859  -169.893  -395.341]\n",
      " [ -122.392    44.018   -41.903  -395.341  1269.886]]\n"
     ]
    }
   ],
   "source": [
    "jaco = nd.Jacobian(objective) \n",
    "hess = nd.Hessian (objective)\n",
    "print 'jacobian : '  , jaco([0.1,125,100,1.5,4])\n",
    "print 'hessian  : \\n', hess([0.1,125,100,1.5,4])"
   ]
  },
  {
   "cell_type": "code",
   "execution_count": 14,
   "metadata": {
    "scrolled": false
   },
   "outputs": [
    {
     "data": {
      "text/plain": [
       "   direc: array([[  1.000e+00,   0.000e+00,   0.000e+00,   0.000e+00,   0.000e+00],\n",
       "       [  0.000e+00,   0.000e+00,   0.000e+00,   0.000e+00,   1.000e+00],\n",
       "       [  0.000e+00,   0.000e+00,   1.000e+00,   0.000e+00,   0.000e+00],\n",
       "       [  0.000e+00,   0.000e+00,   0.000e+00,   1.000e+00,   0.000e+00],\n",
       "       [  4.457e-03,   3.159e-03,   4.741e-08,   6.271e-05,  -6.912e-05]])\n",
       "     fun: 18145.882697821922\n",
       " message: 'Optimization terminated successfully.'\n",
       "    nfev: 317\n",
       "     nit: 3\n",
       "  status: 0\n",
       " success: True\n",
       "       x: array([  80.572,  117.498,  100.005,    2.301,    3.106])"
      ]
     },
     "execution_count": 14,
     "metadata": {},
     "output_type": "execute_result"
    }
   ],
   "source": [
    "#out = minimize(objective, x0=[0.1,125,100,1.5,4], method='Newton-CG')\n",
    "\n",
    "out = minimize(objective, x0=[0.1,125,100,2.5,4], method='Powell')\n",
    "out"
   ]
  },
  {
   "cell_type": "code",
   "execution_count": 15,
   "metadata": {},
   "outputs": [
    {
     "data": {
      "text/plain": [
       "[<matplotlib.lines.Line2D at 0x114a4cbd0>]"
      ]
     },
     "execution_count": 15,
     "metadata": {},
     "output_type": "execute_result"
    },
    {
     "data": {
      "image/png": "[encoded data removed]",
      "text/plain": [
       "<matplotlib.figure.Figure at 0x1148ae410>"
      ]
     },
     "metadata": {},
     "output_type": "display_data"
    }
   ],
   "source": [
    "plt.figure(figsize=(6,4))\n",
    "plt.hist(_data_, histtype='step', color='k', \n",
    "         bins=50, range=(100, 180), normed=True)\n",
    "\n",
    "xs = np.linspace(100, 180, 200)\n",
    "f = lambda xs: np.exp(logpdf(out.x, xs))\n",
    "plt.plot(xs, f(xs))\n",
    "# plt.yscale('log')\n",
    "# plt.ylim([0.1, 100])"
   ]
  },
  {
   "cell_type": "markdown",
   "metadata": {},
   "source": [
    "### Using IMINUIT"
   ]
  },
  {
   "cell_type": "code",
   "execution_count": 16,
   "metadata": {
    "collapsed": true
   },
   "outputs": [],
   "source": [
    "from iminuit import Minuit, describe, Struct"
   ]
  },
  {
   "cell_type": "code",
   "execution_count": 17,
   "metadata": {
    "collapsed": true
   },
   "outputs": [],
   "source": [
    "_data_ = df.mass\n",
    "\n",
    "def objective_minuit(f, mu1,mu2, sigma, lamb):\n",
    "    params = (f, mu1,mu2, sigma, lamb)\n",
    "    out = nll(params, _data_)\n",
    "    if np.isnan(out):\n",
    "        raise ValueError(\"Illegal probability {}\".format(params))\n",
    "    return out"
   ]
  },
  {
   "cell_type": "code",
   "execution_count": 18,
   "metadata": {},
   "outputs": [
    {
     "data": {
      "text/plain": [
       "['f', 'mu1', 'mu2', 'sigma', 'lamb']"
      ]
     },
     "execution_count": 18,
     "metadata": {},
     "output_type": "execute_result"
    }
   ],
   "source": [
    "describe(objective_minuit)"
   ]
  },
  {
   "cell_type": "code",
   "execution_count": 19,
   "metadata": {},
   "outputs": [
    {
     "name": "stderr",
     "output_type": "stream",
     "text": [
      "/usr/local/lib/python2.7/site-packages/ipykernel_launcher.py:8: InitialParamWarning: errordef is not given. Default to 1.\n",
      "  \n"
     ]
    }
   ],
   "source": [
    "m=Minuit(objective_minuit, \n",
    "         f=1.0, error_f = 0.001,\n",
    "         mu1=125.0, error_mu1 = 0.01,\n",
    "         mu2=100.0, error_mu2 = 0.01,\n",
    "         sigma=0.3, error_sigma = 0.001,\n",
    "         lamb=3, error_lamb = 0.001,\n",
    "         fix_mu1 = True,\n",
    "         print_level=1)"
   ]
  },
  {
   "cell_type": "code",
   "execution_count": 20,
   "metadata": {},
   "outputs": [
    {
     "data": {
      "text/html": [
       "\n",
       "        <table>\n",
       "            <tr>\n",
       "                <td><a href=\"#\" onclick=\"$('#avSFGNJulo').toggle()\">+</a></td>\n",
       "                <td title=\"Variable name\">Name</td>\n",
       "                <td title=\"Value of parameter\">Value</td>\n",
       "                <td title=\"Parabolic error\">Parab Error</td>\n",
       "                <td title=\"Minos lower error\">Minos Error-</td>\n",
       "                <td title=\"Minos upper error\">Minos Error+</td>\n",
       "                <td title=\"Lower limit of the parameter\">Limit-</td>\n",
       "                <td title=\"Upper limit of the parameter\">Limit+</td>\n",
       "                <td title=\"Is the parameter fixed in the fit\">FIXED</td>\n",
       "            </tr>\n",
       "        \n",
       "            <tr>\n",
       "                <td>1</td>\n",
       "                <td>f</td>\n",
       "                <td>1</td>\n",
       "                <td>0.001</td>\n",
       "                <td>0</td>\n",
       "                <td>0</td>\n",
       "                <td></td>\n",
       "                <td></td>\n",
       "                <td></td>\n",
       "            </tr>\n",
       "            \n",
       "            <tr>\n",
       "                <td>2</td>\n",
       "                <td>mu1</td>\n",
       "                <td>125</td>\n",
       "                <td>0.01</td>\n",
       "                <td>0</td>\n",
       "                <td>0</td>\n",
       "                <td></td>\n",
       "                <td></td>\n",
       "                <td>FIXED</td>\n",
       "            </tr>\n",
       "            \n",
       "            <tr>\n",
       "                <td>3</td>\n",
       "                <td>mu2</td>\n",
       "                <td>100</td>\n",
       "                <td>0.01</td>\n",
       "                <td>0</td>\n",
       "                <td>0</td>\n",
       "                <td></td>\n",
       "                <td></td>\n",
       "                <td></td>\n",
       "            </tr>\n",
       "            \n",
       "            <tr>\n",
       "                <td>4</td>\n",
       "                <td>sigma</td>\n",
       "                <td>0.3</td>\n",
       "                <td>0.001</td>\n",
       "                <td>0</td>\n",
       "                <td>0</td>\n",
       "                <td></td>\n",
       "                <td></td>\n",
       "                <td></td>\n",
       "            </tr>\n",
       "            \n",
       "            <tr>\n",
       "                <td>5</td>\n",
       "                <td>lamb</td>\n",
       "                <td>3</td>\n",
       "                <td>0.001</td>\n",
       "                <td>0</td>\n",
       "                <td>0</td>\n",
       "                <td></td>\n",
       "                <td></td>\n",
       "                <td></td>\n",
       "            </tr>\n",
       "            \n",
       "            </table>\n",
       "        \n",
       "            <pre id=\"avSFGNJulo\" style=\"display:none;\">\n",
       "            <textarea rows=\"16\" cols=\"50\" onclick=\"this.select()\" readonly>\\begin{tabular}{|c|r|r|r|r|r|r|r|c|}\n",
       "\\hline\n",
       " & Name & Value & Para Error & Error+ & Error- & Limit+ & Limit- & FIXED\\\\\n",
       "\\hline\n",
       "1 & f & 1.000e+00 & 1.000e-03 &  &  &  &  & \\\\\n",
       "\\hline\n",
       "2 & mu1 & 1.250e+02 & 1.000e-02 &  &  &  &  & FIXED\\\\\n",
       "\\hline\n",
       "3 & mu2 & 1.000e+02 & 1.000e-02 &  &  &  &  & \\\\\n",
       "\\hline\n",
       "4 & $\\sigma$ & 3.000e-01 & 1.000e-03 &  &  &  &  & \\\\\n",
       "\\hline\n",
       "5 & lamb & 3 & 1.000e-03 &  &  &  &  & \\\\\n",
       "\\hline\n",
       "\\end{tabular}</textarea>\n",
       "            </pre>\n",
       "            "
      ]
     },
     "metadata": {},
     "output_type": "display_data"
    }
   ],
   "source": [
    "m.print_param()"
   ]
  },
  {
   "cell_type": "code",
   "execution_count": 21,
   "metadata": {},
   "outputs": [
    {
     "name": "stderr",
     "output_type": "stream",
     "text": [
      "/usr/local/lib/python2.7/site-packages/scipy/stats/_continuous_distns.py:81: RuntimeWarning: overflow encountered in square\n",
      "  return -x**2 / 2.0 - _norm_pdf_logC\n"
     ]
    },
    {
     "data": {
      "text/html": [
       "<hr>"
      ]
     },
     "metadata": {},
     "output_type": "display_data"
    },
    {
     "data": {
      "text/html": [
       "\n",
       "        <table>\n",
       "            <tr>\n",
       "                <td title=\"Minimum value of function\">FCN = 18219.5467232</td>\n",
       "                <td title=\"Total number of call to FCN so far\">TOTAL NCALL = 570</td>\n",
       "                <td title=\"Number of call in last migrad\">NCALLS = 570</td>\n",
       "            </tr>\n",
       "            <tr>\n",
       "                <td title=\"Estimated distance to minimum\">EDM = 30.4651666469</td>\n",
       "                <td title=\"Maximum EDM definition of convergence\">GOAL EDM = 1e-05</td>\n",
       "                <td title=\"Error def. Amount of increase in FCN to be defined as 1 standard deviation\">\n",
       "                UP = 1.0</td>\n",
       "            </tr>\n",
       "        </table>\n",
       "        \n",
       "        <table>\n",
       "            <tr>\n",
       "                <td align=\"center\" title=\"Validity of the migrad call\">Valid</td>\n",
       "                <td align=\"center\" title=\"Validity of parameters\">Valid Param</td>\n",
       "                <td align=\"center\" title=\"Is Covariance matrix accurate?\">Accurate Covar</td>\n",
       "                <td align=\"center\" title=\"Positive definiteness of covariance matrix\">PosDef</td>\n",
       "                <td align=\"center\" title=\"Was covariance matrix made posdef by adding diagonal element\">Made PosDef</td>\n",
       "            </tr>\n",
       "            <tr>\n",
       "                <td align=\"center\" style=\"background-color:#FF7878\">False</td>\n",
       "                <td align=\"center\" style=\"background-color:#92CCA6\">True</td>\n",
       "                <td align=\"center\" style=\"background-color:#92CCA6\">True</td>\n",
       "                <td align=\"center\" style=\"background-color:#92CCA6\">True</td>\n",
       "                <td align=\"center\" style=\"background-color:#92CCA6\">False</td>\n",
       "            </tr>\n",
       "            <tr>\n",
       "                <td align=\"center\" title=\"Was last hesse call fail?\">Hesse Fail</td>\n",
       "                <td align=\"center\" title=\"Validity of covariance\">HasCov</td>\n",
       "                <td align=\"center\" title=\"Is EDM above goal EDM?\">Above EDM</td>\n",
       "                <td align=\"center\"></td>\n",
       "                <td align=\"center\" title=\"Did last migrad call reach max call limit?\">Reach calllim</td>\n",
       "            </tr>\n",
       "            <tr>\n",
       "                <td align=\"center\" style=\"background-color:#92CCA6\">False</td>\n",
       "                <td align=\"center\" style=\"background-color:#92CCA6\">True</td>\n",
       "                <td align=\"center\" style=\"background-color:#FF7878\">True</td>\n",
       "                <td align=\"center\"></td>\n",
       "                <td align=\"center\" style=\"background-color:#92CCA6\">False</td>\n",
       "            </tr>\n",
       "        </table>\n",
       "        "
      ]
     },
     "metadata": {},
     "output_type": "display_data"
    },
    {
     "data": {
      "text/html": [
       "\n",
       "        <table>\n",
       "            <tr>\n",
       "                <td><a href=\"#\" onclick=\"$('#ketDUJMVIr').toggle()\">+</a></td>\n",
       "                <td title=\"Variable name\">Name</td>\n",
       "                <td title=\"Value of parameter\">Value</td>\n",
       "                <td title=\"Parabolic error\">Parab Error</td>\n",
       "                <td title=\"Minos lower error\">Minos Error-</td>\n",
       "                <td title=\"Minos upper error\">Minos Error+</td>\n",
       "                <td title=\"Lower limit of the parameter\">Limit-</td>\n",
       "                <td title=\"Upper limit of the parameter\">Limit+</td>\n",
       "                <td title=\"Is the parameter fixed in the fit\">FIXED</td>\n",
       "            </tr>\n",
       "        \n",
       "            <tr>\n",
       "                <td>1</td>\n",
       "                <td>f</td>\n",
       "                <td>20.1292</td>\n",
       "                <td>81.0678</td>\n",
       "                <td>0</td>\n",
       "                <td>0</td>\n",
       "                <td></td>\n",
       "                <td></td>\n",
       "                <td></td>\n",
       "            </tr>\n",
       "            \n",
       "            <tr>\n",
       "                <td>2</td>\n",
       "                <td>mu1</td>\n",
       "                <td>125</td>\n",
       "                <td>0.01</td>\n",
       "                <td>0</td>\n",
       "                <td>0</td>\n",
       "                <td></td>\n",
       "                <td></td>\n",
       "                <td>FIXED</td>\n",
       "            </tr>\n",
       "            \n",
       "            <tr>\n",
       "                <td>3</td>\n",
       "                <td>mu2</td>\n",
       "                <td>100.005</td>\n",
       "                <td>9.25609e-05</td>\n",
       "                <td>0</td>\n",
       "                <td>0</td>\n",
       "                <td></td>\n",
       "                <td></td>\n",
       "                <td></td>\n",
       "            </tr>\n",
       "            \n",
       "            <tr>\n",
       "                <td>4</td>\n",
       "                <td>sigma</td>\n",
       "                <td>2.5968</td>\n",
       "                <td>0.0346189</td>\n",
       "                <td>0</td>\n",
       "                <td>0</td>\n",
       "                <td></td>\n",
       "                <td></td>\n",
       "                <td></td>\n",
       "            </tr>\n",
       "            \n",
       "            <tr>\n",
       "                <td>5</td>\n",
       "                <td>lamb</td>\n",
       "                <td>2.87143</td>\n",
       "                <td>0.0298522</td>\n",
       "                <td>0</td>\n",
       "                <td>0</td>\n",
       "                <td></td>\n",
       "                <td></td>\n",
       "                <td></td>\n",
       "            </tr>\n",
       "            \n",
       "            </table>\n",
       "        \n",
       "            <pre id=\"ketDUJMVIr\" style=\"display:none;\">\n",
       "            <textarea rows=\"16\" cols=\"50\" onclick=\"this.select()\" readonly>\\begin{tabular}{|c|r|r|r|r|r|r|r|c|}\n",
       "\\hline\n",
       " & Name & Value & Para Error & Error+ & Error- & Limit+ & Limit- & FIXED\\\\\n",
       "\\hline\n",
       "1 & f & 2.013e+01 & 8.107e+01 &  &  &  &  & \\\\\n",
       "\\hline\n",
       "2 & mu1 & 1.250e+02 & 1.000e-02 &  &  &  &  & FIXED\\\\\n",
       "\\hline\n",
       "3 & mu2 & 1.000e+02 & 9.256e-05 &  &  &  &  & \\\\\n",
       "\\hline\n",
       "4 & $\\sigma$ & 2.597e+00 & 3.462e-02 &  &  &  &  & \\\\\n",
       "\\hline\n",
       "5 & lamb & 2.871e+00 & 2.985e-02 &  &  &  &  & \\\\\n",
       "\\hline\n",
       "\\end{tabular}</textarea>\n",
       "            </pre>\n",
       "            "
      ]
     },
     "metadata": {},
     "output_type": "display_data"
    },
    {
     "data": {
      "text/html": [
       "<hr>"
      ]
     },
     "metadata": {},
     "output_type": "display_data"
    }
   ],
   "source": [
    "m.migrad();"
   ]
  },
  {
   "cell_type": "code",
   "execution_count": 22,
   "metadata": {},
   "outputs": [
    {
     "name": "stdout",
     "output_type": "stream",
     "text": [
      "('parameters', ['f', 'mu1', 'mu2', 'sigma', 'lamb'])\n",
      "('args', (20.129198367234345, 125.0, 100.00493764774826, 2.596804070364033, 2.8714252509322926))\n",
      "('value', {'lamb': 2.8714252509322926, 'sigma': 2.596804070364033, 'mu2': 100.00493764774826, 'mu1': 125.0, 'f': 20.129198367234345})\n"
     ]
    }
   ],
   "source": [
    "print ('parameters', m.parameters)\n",
    "print ('args', m.args)\n",
    "print ('value', m.values)"
   ]
  },
  {
   "cell_type": "code",
   "execution_count": 23,
   "metadata": {},
   "outputs": [
    {
     "name": "stdout",
     "output_type": "stream",
     "text": [
      "('fval', 18219.54672319926)\n",
      "('current state', 18219.546723199259)\n"
     ]
    }
   ],
   "source": [
    "#and function value at the minimum\n",
    "print('fval', m.fval)\n",
    "#Tip: you can also obtain value at current state by\n",
    "print('current state', objective_minuit(*m.args))"
   ]
  },
  {
   "cell_type": "code",
   "execution_count": 24,
   "metadata": {},
   "outputs": [
    {
     "data": {
      "text/html": [
       "\n",
       "            <table>\n",
       "                <tr>\n",
       "                    <td><a onclick=\"$('#muLESxDGaZ').toggle()\" href=\"#\">+</a></td>\n",
       "        \n",
       "            <td>\n",
       "            <div style=\"width:20px;position:relative; width: -moz-fit-content;\">\n",
       "            <div style=\"display:inline-block;-webkit-writing-mode:vertical-rl;-moz-writing-mode: vertical-rl;writing-mode: vertical-rl;\">\n",
       "            f\n",
       "            </div>\n",
       "            </div>\n",
       "            </td>\n",
       "            \n",
       "            <td>\n",
       "            <div style=\"width:20px;position:relative; width: -moz-fit-content;\">\n",
       "            <div style=\"display:inline-block;-webkit-writing-mode:vertical-rl;-moz-writing-mode: vertical-rl;writing-mode: vertical-rl;\">\n",
       "            mu2\n",
       "            </div>\n",
       "            </div>\n",
       "            </td>\n",
       "            \n",
       "            <td>\n",
       "            <div style=\"width:20px;position:relative; width: -moz-fit-content;\">\n",
       "            <div style=\"display:inline-block;-webkit-writing-mode:vertical-rl;-moz-writing-mode: vertical-rl;writing-mode: vertical-rl;\">\n",
       "            sigma\n",
       "            </div>\n",
       "            </div>\n",
       "            </td>\n",
       "            \n",
       "            <td>\n",
       "            <div style=\"width:20px;position:relative; width: -moz-fit-content;\">\n",
       "            <div style=\"display:inline-block;-webkit-writing-mode:vertical-rl;-moz-writing-mode: vertical-rl;writing-mode: vertical-rl;\">\n",
       "            lamb\n",
       "            </div>\n",
       "            </div>\n",
       "            </td>\n",
       "            \n",
       "                </tr>\n",
       "                \n",
       "            <tr>\n",
       "                <td>f</td>\n",
       "            \n",
       "                <td style=\"background-color:rgb(255,117,117)\">\n",
       "                1.00\n",
       "                </td>\n",
       "                \n",
       "                <td style=\"background-color:rgb(166,250,184)\">\n",
       "                0.03\n",
       "                </td>\n",
       "                \n",
       "                <td style=\"background-color:rgb(163,254,186)\">\n",
       "                -0.00\n",
       "                </td>\n",
       "                \n",
       "                <td style=\"background-color:rgb(163,254,186)\">\n",
       "                -0.00\n",
       "                </td>\n",
       "                \n",
       "            </tr>\n",
       "            \n",
       "            <tr>\n",
       "                <td>mu2</td>\n",
       "            \n",
       "                <td style=\"background-color:rgb(166,250,184)\">\n",
       "                0.03\n",
       "                </td>\n",
       "                \n",
       "                <td style=\"background-color:rgb(255,117,117)\">\n",
       "                1.00\n",
       "                </td>\n",
       "                \n",
       "                <td style=\"background-color:rgb(163,254,186)\">\n",
       "                0.00\n",
       "                </td>\n",
       "                \n",
       "                <td style=\"background-color:rgb(163,254,186)\">\n",
       "                -0.00\n",
       "                </td>\n",
       "                \n",
       "            </tr>\n",
       "            \n",
       "            <tr>\n",
       "                <td>sigma</td>\n",
       "            \n",
       "                <td style=\"background-color:rgb(163,254,186)\">\n",
       "                -0.00\n",
       "                </td>\n",
       "                \n",
       "                <td style=\"background-color:rgb(163,254,186)\">\n",
       "                0.00\n",
       "                </td>\n",
       "                \n",
       "                <td style=\"background-color:rgb(255,117,117)\">\n",
       "                1.00\n",
       "                </td>\n",
       "                \n",
       "                <td style=\"background-color:rgb(184,222,170)\">\n",
       "                -0.23\n",
       "                </td>\n",
       "                \n",
       "            </tr>\n",
       "            \n",
       "            <tr>\n",
       "                <td>lamb</td>\n",
       "            \n",
       "                <td style=\"background-color:rgb(163,254,186)\">\n",
       "                -0.00\n",
       "                </td>\n",
       "                \n",
       "                <td style=\"background-color:rgb(163,254,186)\">\n",
       "                -0.00\n",
       "                </td>\n",
       "                \n",
       "                <td style=\"background-color:rgb(184,222,170)\">\n",
       "                -0.23\n",
       "                </td>\n",
       "                \n",
       "                <td style=\"background-color:rgb(255,117,117)\">\n",
       "                1.00\n",
       "                </td>\n",
       "                \n",
       "            </tr>\n",
       "            </table>\n",
       "\n",
       "            <pre id=\"muLESxDGaZ\" style=\"display:none;\">\n",
       "            <textarea rows=\"17\" cols=\"50\" onclick=\"this.select()\" readonly>%\\usepackage[table]{xcolor} % include this for color\n",
       "%\\usepackage{rotating} % include this for rotate header\n",
       "%\\documentclass[xcolor=table]{beamer} % for beamer\n",
       "\\begin{tabular}{|c|c|c|c|c|}\n",
       "\\hline\n",
       "\\rotatebox{90}{} & \\rotatebox{90}{f} & \\rotatebox{90}{mu2} & \\rotatebox{90}{$\\sigma$} & \\rotatebox{90}{lamb}\\\\\n",
       "\\hline\n",
       "f & \\cellcolor[RGB]{255,117,117} 1.00 & \\cellcolor[RGB]{166,250,184} 0.03 & \\cellcolor[RGB]{163,254,186} -0.00 & \\cellcolor[RGB]{163,254,186} -0.00\\\\\n",
       "\\hline\n",
       "mu2 & \\cellcolor[RGB]{166,250,184} 0.03 & \\cellcolor[RGB]{255,117,117} 1.00 & \\cellcolor[RGB]{163,254,186} 0.00 & \\cellcolor[RGB]{163,254,186} -0.00\\\\\n",
       "\\hline\n",
       "$\\sigma$ & \\cellcolor[RGB]{163,254,186} -0.00 & \\cellcolor[RGB]{163,254,186} 0.00 & \\cellcolor[RGB]{255,117,117} 1.00 & \\cellcolor[RGB]{184,222,170} -0.23\\\\\n",
       "\\hline\n",
       "lamb & \\cellcolor[RGB]{163,254,186} -0.00 & \\cellcolor[RGB]{163,254,186} -0.00 & \\cellcolor[RGB]{184,222,170} -0.23 & \\cellcolor[RGB]{255,117,117} 1.00\\\\\n",
       "\\hline\n",
       "\\end{tabular}</textarea>\n",
       "            </pre>\n",
       "            "
      ]
     },
     "metadata": {},
     "output_type": "display_data"
    }
   ],
   "source": [
    "m.print_matrix() #correlation"
   ]
  },
  {
   "cell_type": "code",
   "execution_count": 25,
   "metadata": {
    "collapsed": true
   },
   "outputs": [],
   "source": [
    "#minos contour\n",
    "xminos, zminos, ctr = m.mncontour('sigma','lamb')"
   ]
  },
  {
   "cell_type": "code",
   "execution_count": 26,
   "metadata": {},
   "outputs": [
    {
     "data": {
      "text/plain": [
       "[<matplotlib.lines.Line2D at 0x115dcac10>]"
      ]
     },
     "execution_count": 26,
     "metadata": {},
     "output_type": "execute_result"
    },
    {
     "data": {
      "image/png": "[encoded data removed]",
      "text/plain": [
       "<matplotlib.figure.Figure at 0x115c16b50>"
      ]
     },
     "metadata": {},
     "output_type": "display_data"
    }
   ],
   "source": [
    "#1D value Scan\n",
    "plt.figure(figsize=(12,8))\n",
    "plt.subplot(2,3,1)\n",
    "x,y = m.profile('sigma',subtract_min=True);\n",
    "plt.plot(x,y) #if you have matplotlib\n",
    "\n",
    "plt.subplot(2,3,2)\n",
    "x,y = m.profile('lamb',subtract_min=True);\n",
    "plt.plot(x,y) #if you have matplotlib\n",
    "\n",
    "plt.subplot(2,3,3)\n",
    "x,y = m.profile('f',subtract_min=True);\n",
    "plt.plot(x,y) #if you have matplotlib\n",
    "\n",
    "plt.subplot(2,3,4)\n",
    "x,y = m.profile('mu1',subtract_min=True);\n",
    "plt.plot(x,y) #if you have matplotlib\n",
    "\n",
    "plt.subplot(2,3,5)\n",
    "x,y = m.profile('mu2',subtract_min=True);\n",
    "plt.plot(x,y) #if you have matplotlib"
   ]
  },
  {
   "cell_type": "markdown",
   "metadata": {},
   "source": [
    "# Playing with ```probfit```"
   ]
  },
  {
   "cell_type": "code",
   "execution_count": 27,
   "metadata": {
    "collapsed": true
   },
   "outputs": [],
   "source": [
    "import probfit as pf"
   ]
  },
  {
   "cell_type": "code",
   "execution_count": 28,
   "metadata": {},
   "outputs": [
    {
     "data": {
      "text/plain": [
       "['AddPdf',\n",
       " 'AddPdfNorm',\n",
       " 'BinnedChi2',\n",
       " 'BinnedLH',\n",
       " 'BlindFunc',\n",
       " 'Chi2Regression',\n",
       " 'Convolve',\n",
       " 'Extended',\n",
       " 'FakeFunc',\n",
       " 'FakeFuncCode',\n",
       " 'HistogramPdf',\n",
       " 'MinimalFuncCode',\n",
       " 'Minuit',\n",
       " 'Normalized',\n",
       " 'Polynomial',\n",
       " 'SimultaneousFit',\n",
       " 'UnbinnedLH',\n",
       " '__all__',\n",
       " '__builtins__',\n",
       " '__doc__',\n",
       " '__file__',\n",
       " '__name__',\n",
       " '__package__',\n",
       " '__path__',\n",
       " '__version__',\n",
       " '_libstat',\n",
       " 'argus',\n",
       " 'cauchy',\n",
       " 'ceil',\n",
       " 'collections',\n",
       " 'costfunc',\n",
       " 'cruijff',\n",
       " 'crystalball',\n",
       " 'decorator',\n",
       " 'describe',\n",
       " 'doublegaussian',\n",
       " 'draw_blh',\n",
       " 'draw_bx2',\n",
       " 'draw_compare',\n",
       " 'draw_compare_hist',\n",
       " 'draw_normed_pdf',\n",
       " 'draw_pdf',\n",
       " 'draw_pdf_with_edges',\n",
       " 'draw_pdf_with_midpoints',\n",
       " 'draw_residual_blh',\n",
       " 'draw_residual_ulh',\n",
       " 'draw_simultaneous',\n",
       " 'draw_ulh',\n",
       " 'draw_x2',\n",
       " 'extended',\n",
       " 'first_neg',\n",
       " 'fit_binlh',\n",
       " 'fit_binx2',\n",
       " 'fit_uml',\n",
       " 'floor',\n",
       " 'functor',\n",
       " 'funcutil',\n",
       " 'fwhm_f',\n",
       " 'gaussian',\n",
       " 'gen_toy',\n",
       " 'gen_toyn',\n",
       " 'info',\n",
       " 'integrate1d',\n",
       " 'itt',\n",
       " 'linear',\n",
       " 'merge_func_code',\n",
       " 'mid',\n",
       " 'minmax',\n",
       " 'normalized',\n",
       " 'novosibirsk',\n",
       " 'np',\n",
       " 'nputil',\n",
       " 'oneshot',\n",
       " 'parse_arg',\n",
       " 'pdf',\n",
       " 'plotting',\n",
       " 'plt',\n",
       " 'poly2',\n",
       " 'poly3',\n",
       " 'pprint_arg',\n",
       " 'probfit_warnings',\n",
       " 'remove_prefix',\n",
       " 'rename',\n",
       " 'rtv_breitwigner',\n",
       " 'sqrt',\n",
       " 'statutil',\n",
       " 'toy',\n",
       " 'try_binlh',\n",
       " 'try_chi2',\n",
       " 'try_uml',\n",
       " 'tuplize',\n",
       " 'ugaussian',\n",
       " 'util',\n",
       " 'vector_apply',\n",
       " 'warn',\n",
       " 'xintercept',\n",
       " 'xintercept_tuple']"
      ]
     },
     "execution_count": 28,
     "metadata": {},
     "output_type": "execute_result"
    }
   ],
   "source": [
    "dir(pf)"
   ]
  },
  {
   "cell_type": "code",
   "execution_count": 29,
   "metadata": {},
   "outputs": [
    {
     "name": "stdout",
     "output_type": "stream",
     "text": [
      "Help on built-in function gaussian in module probfit.pdf:\n",
      "\n",
      "gaussian(...)\n",
      "    gaussian(double x, double mean, double sigma) -> double\n",
      "    \n",
      "    Normalized gaussian.\n",
      "    \n",
      "    .. math::\n",
      "        f(x; mean, \\sigma) = \\frac{1}{\\sqrt{2\\pi}\\sigma}\n",
      "        \\exp \\left[  -\\frac{1}{2} \\left(\\frac{x-mean}{\\sigma}\\right)^2 \\right]\n",
      "\n"
     ]
    }
   ],
   "source": [
    "help(pf.gaussian)"
   ]
  },
  {
   "cell_type": "code",
   "execution_count": 38,
   "metadata": {
    "collapsed": true
   },
   "outputs": [],
   "source": [
    "def exponotial(x, pos, lamb):\n",
    "    return lamb * np.exp( -lamb * (x - pos) )\n",
    "\n",
    "def model(x, mu1, mu2, sigma, lamb, s, b):\n",
    "    ps = pf.gaussian(x, mu1, sigma)\n",
    "    pb = exponotial(x,mu2, lamb)\n",
    "    return s* ps + b * pb\n",
    "\n",
    "extended_model = pf.Extended(model)"
   ]
  },
  {
   "cell_type": "code",
   "execution_count": 41,
   "metadata": {
    "collapsed": true
   },
   "outputs": [],
   "source": [
    "unbinned_likelihood = pf.UnbinnedLH(extended_model, df.mass.values, \n",
    "                                    extended=True, \n",
    "                                    extended_bound=(-10.,10.))"
   ]
  },
  {
   "cell_type": "code",
   "execution_count": 46,
   "metadata": {
    "scrolled": false
   },
   "outputs": [
    {
     "name": "stderr",
     "output_type": "stream",
     "text": [
      "/usr/local/lib/python2.7/site-packages/ipykernel_launcher.py:3: InitialParamWarning: Parameter mu1 is floating but does not have initial step size. Assume 1.\n",
      "  This is separate from the ipykernel package so we can avoid doing imports until\n",
      "/usr/local/lib/python2.7/site-packages/ipykernel_launcher.py:3: InitialParamWarning: Parameter sigma is floating but does not have initial step size. Assume 1.\n",
      "  This is separate from the ipykernel package so we can avoid doing imports until\n",
      "/usr/local/lib/python2.7/site-packages/ipykernel_launcher.py:3: InitialParamWarning: Parameter lamb is floating but does not have initial step size. Assume 1.\n",
      "  This is separate from the ipykernel package so we can avoid doing imports until\n",
      "/usr/local/lib/python2.7/site-packages/ipykernel_launcher.py:3: InitialParamWarning: Parameter s is floating but does not have initial step size. Assume 1.\n",
      "  This is separate from the ipykernel package so we can avoid doing imports until\n",
      "/usr/local/lib/python2.7/site-packages/ipykernel_launcher.py:3: InitialParamWarning: Parameter b is floating but does not have initial step size. Assume 1.\n",
      "  This is separate from the ipykernel package so we can avoid doing imports until\n",
      "/usr/local/lib/python2.7/site-packages/ipykernel_launcher.py:3: InitialParamWarning: Parameter N does not have initial value. Assume 0.\n",
      "  This is separate from the ipykernel package so we can avoid doing imports until\n",
      "/usr/local/lib/python2.7/site-packages/ipykernel_launcher.py:3: InitialParamWarning: Parameter N is floating but does not have initial step size. Assume 1.\n",
      "  This is separate from the ipykernel package so we can avoid doing imports until\n",
      "/usr/local/lib/python2.7/site-packages/ipykernel_launcher.py:2: RuntimeWarning: overflow encountered in exp\n",
      "  \n",
      "/usr/local/lib/python2.7/site-packages/ipykernel_launcher.py:7: RuntimeWarning: overflow encountered in double_scalars\n",
      "  import sys\n",
      "/usr/local/lib/python2.7/site-packages/ipykernel_launcher.py:5: RuntimeWarning: fcn returns Nan\n",
      "fcn is called with following arguments:\n",
      "      mu1 = +125.000000\n",
      "      mu2 = +100.000000\n",
      "    sigma = +1.500000\n",
      "     lamb = +20.000000\n",
      "        s = +400.000000\n",
      "        b = +5000.000000\n",
      "        N = +0.000000\n",
      "\n",
      "  \"\"\"\n",
      "/usr/local/lib/python2.7/site-packages/ipykernel_launcher.py:5: RuntimeWarning: fcn returns Nan\n",
      "fcn is called with following arguments:\n",
      "      mu1 = nan\n",
      "      mu2 = +100.000000\n",
      "    sigma = +1.500000\n",
      "     lamb = +20.000000\n",
      "        s = +400.000000\n",
      "        b = +5000.000000\n",
      "        N = +0.000000\n",
      "\n",
      "  \"\"\"\n",
      "/usr/local/lib/python2.7/site-packages/ipykernel_launcher.py:5: RuntimeWarning: fcn returns Nan\n",
      "fcn is called with following arguments:\n",
      "      mu1 = +125.000000\n",
      "      mu2 = +100.000000\n",
      "    sigma = nan\n",
      "     lamb = +20.000000\n",
      "        s = +400.000000\n",
      "        b = +5000.000000\n",
      "        N = +0.000000\n",
      "\n",
      "  \"\"\"\n",
      "/usr/local/lib/python2.7/site-packages/ipykernel_launcher.py:5: RuntimeWarning: fcn returns Nan\n",
      "fcn is called with following arguments:\n",
      "      mu1 = +125.000000\n",
      "      mu2 = +100.000000\n",
      "    sigma = +1.500000\n",
      "     lamb = nan\n",
      "        s = +400.000000\n",
      "        b = +5000.000000\n",
      "        N = +0.000000\n",
      "\n",
      "  \"\"\"\n",
      "/usr/local/lib/python2.7/site-packages/ipykernel_launcher.py:5: RuntimeWarning: fcn returns Nan\n",
      "fcn is called with following arguments:\n",
      "      mu1 = +125.000000\n",
      "      mu2 = +100.000000\n",
      "    sigma = +1.500000\n",
      "     lamb = +20.000000\n",
      "        s = nan\n",
      "        b = +5000.000000\n",
      "        N = +0.000000\n",
      "\n",
      "  \"\"\"\n",
      "/usr/local/lib/python2.7/site-packages/ipykernel_launcher.py:5: RuntimeWarning: fcn returns Nan\n",
      "fcn is called with following arguments:\n",
      "      mu1 = +125.000000\n",
      "      mu2 = +100.000000\n",
      "    sigma = +1.500000\n",
      "     lamb = +20.000000\n",
      "        s = +400.000000\n",
      "        b = nan\n",
      "        N = +0.000000\n",
      "\n",
      "  \"\"\"\n",
      "/usr/local/lib/python2.7/site-packages/ipykernel_launcher.py:5: RuntimeWarning: fcn returns Nan\n",
      "fcn is called with following arguments:\n",
      "      mu1 = +125.000000\n",
      "      mu2 = +100.000000\n",
      "    sigma = +1.500000\n",
      "     lamb = +20.000000\n",
      "        s = +400.000000\n",
      "        b = +5000.000000\n",
      "        N = nan\n",
      "\n",
      "  \"\"\"\n",
      "/usr/local/lib/python2.7/site-packages/ipykernel_launcher.py:5: RuntimeWarning: fcn returns Nan\n",
      "fcn is called with following arguments:\n",
      "      mu1 = nan\n",
      "      mu2 = +100.000000\n",
      "    sigma = nan\n",
      "     lamb = nan\n",
      "        s = nan\n",
      "        b = nan\n",
      "        N = nan\n",
      "\n",
      "  \"\"\"\n"
     ]
    },
    {
     "data": {
      "text/html": [
       "<hr>"
      ]
     },
     "metadata": {},
     "output_type": "display_data"
    },
    {
     "data": {
      "text/html": [
       "\n",
       "        <table>\n",
       "            <tr>\n",
       "                <td title=\"Minimum value of function\">FCN = nan</td>\n",
       "                <td title=\"Total number of call to FCN so far\">TOTAL NCALL = 84</td>\n",
       "                <td title=\"Number of call in last migrad\">NCALLS = 84</td>\n",
       "            </tr>\n",
       "            <tr>\n",
       "                <td title=\"Estimated distance to minimum\">EDM = nan</td>\n",
       "                <td title=\"Maximum EDM definition of convergence\">GOAL EDM = 5e-06</td>\n",
       "                <td title=\"Error def. Amount of increase in FCN to be defined as 1 standard deviation\">\n",
       "                UP = 0.5</td>\n",
       "            </tr>\n",
       "        </table>\n",
       "        \n",
       "        <table>\n",
       "            <tr>\n",
       "                <td align=\"center\" title=\"Validity of the migrad call\">Valid</td>\n",
       "                <td align=\"center\" title=\"Validity of parameters\">Valid Param</td>\n",
       "                <td align=\"center\" title=\"Is Covariance matrix accurate?\">Accurate Covar</td>\n",
       "                <td align=\"center\" title=\"Positive definiteness of covariance matrix\">PosDef</td>\n",
       "                <td align=\"center\" title=\"Was covariance matrix made posdef by adding diagonal element\">Made PosDef</td>\n",
       "            </tr>\n",
       "            <tr>\n",
       "                <td align=\"center\" style=\"background-color:#92CCA6\">True</td>\n",
       "                <td align=\"center\" style=\"background-color:#92CCA6\">True</td>\n",
       "                <td align=\"center\" style=\"background-color:#FF7878\">False</td>\n",
       "                <td align=\"center\" style=\"background-color:#92CCA6\">True</td>\n",
       "                <td align=\"center\" style=\"background-color:#92CCA6\">False</td>\n",
       "            </tr>\n",
       "            <tr>\n",
       "                <td align=\"center\" title=\"Was last hesse call fail?\">Hesse Fail</td>\n",
       "                <td align=\"center\" title=\"Validity of covariance\">HasCov</td>\n",
       "                <td align=\"center\" title=\"Is EDM above goal EDM?\">Above EDM</td>\n",
       "                <td align=\"center\"></td>\n",
       "                <td align=\"center\" title=\"Did last migrad call reach max call limit?\">Reach calllim</td>\n",
       "            </tr>\n",
       "            <tr>\n",
       "                <td align=\"center\" style=\"background-color:#92CCA6\">False</td>\n",
       "                <td align=\"center\" style=\"background-color:#92CCA6\">True</td>\n",
       "                <td align=\"center\" style=\"background-color:#92CCA6\">False</td>\n",
       "                <td align=\"center\"></td>\n",
       "                <td align=\"center\" style=\"background-color:#92CCA6\">False</td>\n",
       "            </tr>\n",
       "        </table>\n",
       "        "
      ]
     },
     "metadata": {},
     "output_type": "display_data"
    },
    {
     "data": {
      "text/html": [
       "\n",
       "        <table>\n",
       "            <tr>\n",
       "                <td><a href=\"#\" onclick=\"$('#XyVVtGmHwc').toggle()\">+</a></td>\n",
       "                <td title=\"Variable name\">Name</td>\n",
       "                <td title=\"Value of parameter\">Value</td>\n",
       "                <td title=\"Parabolic error\">Parab Error</td>\n",
       "                <td title=\"Minos lower error\">Minos Error-</td>\n",
       "                <td title=\"Minos upper error\">Minos Error+</td>\n",
       "                <td title=\"Lower limit of the parameter\">Limit-</td>\n",
       "                <td title=\"Upper limit of the parameter\">Limit+</td>\n",
       "                <td title=\"Is the parameter fixed in the fit\">FIXED</td>\n",
       "            </tr>\n",
       "        \n",
       "            <tr>\n",
       "                <td>1</td>\n",
       "                <td>mu1</td>\n",
       "                <td>nan</td>\n",
       "                <td>nan</td>\n",
       "                <td>0</td>\n",
       "                <td>0</td>\n",
       "                <td></td>\n",
       "                <td></td>\n",
       "                <td></td>\n",
       "            </tr>\n",
       "            \n",
       "            <tr>\n",
       "                <td>2</td>\n",
       "                <td>mu2</td>\n",
       "                <td>100</td>\n",
       "                <td>1</td>\n",
       "                <td>0</td>\n",
       "                <td>0</td>\n",
       "                <td></td>\n",
       "                <td></td>\n",
       "                <td>FIXED</td>\n",
       "            </tr>\n",
       "            \n",
       "            <tr>\n",
       "                <td>3</td>\n",
       "                <td>sigma</td>\n",
       "                <td>nan</td>\n",
       "                <td>nan</td>\n",
       "                <td>0</td>\n",
       "                <td>0</td>\n",
       "                <td></td>\n",
       "                <td></td>\n",
       "                <td></td>\n",
       "            </tr>\n",
       "            \n",
       "            <tr>\n",
       "                <td>4</td>\n",
       "                <td>lamb</td>\n",
       "                <td>nan</td>\n",
       "                <td>nan</td>\n",
       "                <td>0</td>\n",
       "                <td>0</td>\n",
       "                <td></td>\n",
       "                <td></td>\n",
       "                <td></td>\n",
       "            </tr>\n",
       "            \n",
       "            <tr>\n",
       "                <td>5</td>\n",
       "                <td>s</td>\n",
       "                <td>nan</td>\n",
       "                <td>nan</td>\n",
       "                <td>0</td>\n",
       "                <td>0</td>\n",
       "                <td></td>\n",
       "                <td></td>\n",
       "                <td></td>\n",
       "            </tr>\n",
       "            \n",
       "            <tr>\n",
       "                <td>6</td>\n",
       "                <td>b</td>\n",
       "                <td>nan</td>\n",
       "                <td>nan</td>\n",
       "                <td>0</td>\n",
       "                <td>0</td>\n",
       "                <td></td>\n",
       "                <td></td>\n",
       "                <td></td>\n",
       "            </tr>\n",
       "            \n",
       "            <tr>\n",
       "                <td>7</td>\n",
       "                <td>N</td>\n",
       "                <td>nan</td>\n",
       "                <td>nan</td>\n",
       "                <td>0</td>\n",
       "                <td>0</td>\n",
       "                <td></td>\n",
       "                <td></td>\n",
       "                <td></td>\n",
       "            </tr>\n",
       "            \n",
       "            </table>\n",
       "        \n",
       "            <pre id=\"XyVVtGmHwc\" style=\"display:none;\">\n",
       "            <textarea rows=\"20\" cols=\"50\" onclick=\"this.select()\" readonly>\\begin{tabular}{|c|r|r|r|r|r|r|r|c|}\n",
       "\\hline\n",
       " & Name & Value & Para Error & Error+ & Error- & Limit+ & Limit- & FIXED\\\\\n",
       "\\hline\n",
       "1 & mu1 &   nan &   nan &  &  &  &  & \\\\\n",
       "\\hline\n",
       "2 & mu2 & 1.000e+02 & 1.000e+00 &  &  &  &  & FIXED\\\\\n",
       "\\hline\n",
       "3 & $\\sigma$ &   nan &   nan &  &  &  &  & \\\\\n",
       "\\hline\n",
       "4 & lamb &   nan &   nan &  &  &  &  & \\\\\n",
       "\\hline\n",
       "5 & s &   nan &   nan &  &  &  &  & \\\\\n",
       "\\hline\n",
       "6 & b &   nan &   nan &  &  &  &  & \\\\\n",
       "\\hline\n",
       "7 & N &   nan &   nan &  &  &  &  & \\\\\n",
       "\\hline\n",
       "\\end{tabular}</textarea>\n",
       "            </pre>\n",
       "            "
      ]
     },
     "metadata": {},
     "output_type": "display_data"
    },
    {
     "data": {
      "text/html": [
       "<hr>"
      ]
     },
     "metadata": {},
     "output_type": "display_data"
    },
    {
     "data": {
      "text/plain": [
       "<iminuit._libiminuit.Minuit at 0x116ca2740>"
      ]
     },
     "execution_count": 46,
     "metadata": {},
     "output_type": "execute_result"
    }
   ],
   "source": [
    "minuit = Minuit(unbinned_likelihood, \n",
    "                mu1=125, mu2=100, sigma=1.5, lamb=1/0.05, s=400, b=5000,\n",
    "                fix_mu2=True, \n",
    "               )\n",
    "minuit.migrad()\n",
    "minuit\n",
    "# unbinned_likelihood.draw(minuit)"
   ]
  },
  {
   "cell_type": "code",
   "execution_count": null,
   "metadata": {
    "collapsed": true
   },
   "outputs": [],
   "source": []
  }
 ],
 "metadata": {
  "kernelspec": {
   "display_name": "Python 2",
   "language": "python",
   "name": "python2"
  },
  "language_info": {
   "codemirror_mode": {
    "name": "ipython",
    "version": 2
   },
   "file_extension": ".py",
   "mimetype": "text/x-python",
   "name": "python",
   "nbconvert_exporter": "python",
   "pygments_lexer": "ipython2",
   "version": "2.7.13"
  }
 },
 "nbformat": 4,
 "nbformat_minor": 2
}
