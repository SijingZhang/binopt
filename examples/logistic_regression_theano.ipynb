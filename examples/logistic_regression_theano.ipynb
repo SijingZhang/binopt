{
 "cells": [
  {
   "cell_type": "code",
   "execution_count": 1,
   "metadata": {},
   "outputs": [],
   "source": [
    "import matplotlib.pyplot as plt\n",
    "import numpy  as np\n",
    "import pandas as pd\n",
    "from scipy import optimize\n",
    "%matplotlib inline\n",
    "plt.style.use('physics')\n",
    "\n",
    "plt.rcParams['axes.grid'       ]  = False\n",
    "plt.rcParams['xtick.labelsize' ]  = 14\n",
    "plt.rcParams['ytick.labelsize' ]  = 14\n",
    "plt.rcParams['axes.labelsize'  ]  = 14\n",
    "plt.rcParams['legend.fancybox' ]  = False\n",
    "\n",
    "pd.options.mode.chained_assignment = None\n",
    "\n",
    "import binopt\n",
    "\n",
    "from scipy import special as sp\n",
    "\n",
    "def divide( a, b ):\n",
    "    \"\"\" ignore / 0, div0( [-1, 0, 1], 0 ) -> [0, 0, 0] \"\"\"\n",
    "    with np.errstate(divide='ignore', invalid='ignore'):\n",
    "        c = np.true_divide( a, b )\n",
    "    return c"
   ]
  },
  {
   "cell_type": "code",
   "execution_count": 2,
   "metadata": {},
   "outputs": [],
   "source": [
    "df = pd.read_hdf('../../data-driven/data/hgg-double-fake-trees-training-2017.h5')"
   ]
  },
  {
   "cell_type": "code",
   "execution_count": 3,
   "metadata": {},
   "outputs": [
    {
     "data": {
      "text/plain": [
       "array(['Y', 'Z', 'avg_et', 'avg_pt', 'cr_region', 'diff_et',\n",
       "       'dijet_LeadJPt', 'dijet_Mjj', 'dijet_SubJPt', 'dijet_Zep',\n",
       "       'dijet_abs_dEta', 'dijet_dipho_dphi', 'dijet_dipho_dphi_trunc',\n",
       "       'dijet_dphi', 'dijet_leadEta', 'dijet_minDRJetPho', 'dijet_mva',\n",
       "       'dijet_subleadEta', 'dipho_PToM', 'dipho_cosphi', 'dipho_leadEt',\n",
       "       'dipho_leadEta', 'dipho_leadIDMVA', 'dipho_leadPt',\n",
       "       'dipho_lead_elveto', 'dipho_lead_sieie', 'dipho_mass', 'dipho_mva',\n",
       "       'dipho_subleadEt', 'dipho_subleadEta', 'dipho_subleadIDMVA',\n",
       "       'dipho_subleadPt', 'dipho_sublead_elveto', 'dipho_sublead_sieie',\n",
       "       'eta_cat', 'fail_id', 'isvbf', 'leadPho_PToM', 'lead_eta_cat',\n",
       "       'm_sideband', 'max_eta', 'max_id', 'min_eta', 'min_id', 'n_jet_30',\n",
       "       'pass_id', 'sample', 'sublPho_PToM', 'subl_eta_cat', 'weight',\n",
       "       'weight_bins'], dtype=object)"
      ]
     },
     "execution_count": 3,
     "metadata": {},
     "output_type": "execute_result"
    }
   ],
   "source": [
    "def vbf_presel(data):\n",
    "    return (\n",
    "        (data[\"leadPho_PToM\"       ]> (1/3.0))&\n",
    "        (data[\"sublPho_PToM\"       ]> (1/4.0))&\n",
    "        (data[\"dijet_LeadJPt\"      ]> 30     )& \n",
    "        (data[\"dijet_SubJPt\"       ]> 20     )&\n",
    "        (data[\"dijet_Mjj\"          ]> 250    )&\n",
    "        (data[\"dipho_mass\"         ]> 100    )&\n",
    "        (data[\"dipho_mass\"         ]< 180    ))\n",
    "\n",
    "df = df[vbf_presel(df)]\n",
    "df.columns.values"
   ]
  },
  {
   "cell_type": "code",
   "execution_count": 20,
   "metadata": {},
   "outputs": [],
   "source": [
    "from sklearn.externals import joblib\n",
    "clf = joblib.load('../../data-driven/notebooks/data-driven-bkg-GBC-training.pkl') \n",
    "\n",
    "def evaluate_sklearn(cls, vals, coef=1):\n",
    "    scale = 1.0 / cls.n_estimators\n",
    "    ret = np.zeros(vals.shape[0])\n",
    "\n",
    "    learning_rate = cls.learning_rate\n",
    "    for itree, t in enumerate(cls.estimators_[:, 0]):\n",
    "        r = t.predict(vals)\n",
    "        ret += r * scale\n",
    "    return 2.0/(1.0 + np.exp(-coef/learning_rate * ret)) - 1\n",
    "\n",
    "df['dijet_centrality_gg'] = np.exp(-4*(df.dijet_Zep/df.dijet_abs_dEta)**2)\n",
    "_dijetvar_ = np.array(\n",
    "    [u'dijet_LeadJPt'  ,u'dijet_SubJPt', \n",
    "     u'dijet_abs_dEta' ,u'dijet_Mjj', \n",
    "     u'dijet_centrality_gg',u'dijet_dipho_dphi_trunc',\n",
    "     u'dijet_dphi'     ,u'dijet_minDRJetPho',\n",
    "     u'leadPho_PToM'   ,u'sublPho_PToM']\n",
    ")\n",
    "\n",
    "df['dijet_bdt'] = evaluate_sklearn(clf,df[_dijetvar_])"
   ]
  },
  {
   "cell_type": "code",
   "execution_count": 52,
   "metadata": {},
   "outputs": [],
   "source": [
    "df_bkgs = df[\n",
    "    (df['sample'] != 'data' ) & \n",
    "    (df['sample'] != 'qcd'  ) & \n",
    "    (df['sample'] != 'vbf'  ) &\n",
    "    (df['sample'] != 'gjet' ) & \n",
    "    (df['sample'] != 'zee'  )\n",
    "]\n",
    "df_sign = df[\n",
    "    (df['sample'] == 'vbf'  )\n",
    "]"
   ]
  },
  {
   "cell_type": "code",
   "execution_count": 95,
   "metadata": {},
   "outputs": [],
   "source": [
    "D  =  np.concatenate((\n",
    "    df_sign[['dijet_abs_dEta','dijet_centrality_gg']],\n",
    "    df_bkgs[['dijet_abs_dEta','dijet_centrality_gg']]\n",
    "))\n",
    "\n",
    "Y  =  np.concatenate((np.ones(df_sign.shape[0]),np.zeros(df_bkgs.shape[0])))\n",
    "W  =  np.concatenate((df_sign['weight'],df_bkgs['weight']))\n",
    "\n",
    "def normalize_weights(weights, classes):\n",
    "    weights_ = np.copy(weights)\n",
    "    for cl in np.unique(classes):\n",
    "        weights_[classes==cl] = weights_[classes==cl]/np.sum(weights_[classes==cl])\n",
    "    return weights_\n",
    "\n",
    "weights_train = normalize_weights(W,Y)"
   ]
  },
  {
   "cell_type": "code",
   "execution_count": 96,
   "metadata": {},
   "outputs": [],
   "source": [
    "from sklearn import linear_model"
   ]
  },
  {
   "cell_type": "code",
   "execution_count": 97,
   "metadata": {},
   "outputs": [
    {
     "data": {
      "text/plain": [
       "LogisticRegression(C=100000.0, class_weight=None, dual=False,\n",
       "          fit_intercept=True, intercept_scaling=1, max_iter=100,\n",
       "          multi_class='ovr', n_jobs=1, penalty='l2', random_state=None,\n",
       "          solver='liblinear', tol=0.0001, verbose=0, warm_start=False)"
      ]
     },
     "execution_count": 97,
     "metadata": {},
     "output_type": "execute_result"
    }
   ],
   "source": [
    "clf = linear_model.LogisticRegression(C=1e5)\n",
    "clf.fit(D, Y, sample_weight=weights_train)"
   ]
  },
  {
   "cell_type": "code",
   "execution_count": 98,
   "metadata": {},
   "outputs": [
    {
     "name": "stdout",
     "output_type": "stream",
     "text": [
      "[[ 0.4912  2.4313]]\n",
      "[-3.3732]\n"
     ]
    }
   ],
   "source": [
    "print clf.coef_ \n",
    "print clf.intercept_"
   ]
  },
  {
   "cell_type": "code",
   "execution_count": 119,
   "metadata": {},
   "outputs": [
    {
     "data": {
      "text/plain": [
       "array([ 0.2565,  0.23  ,  0.1948, ...,  0.0338,  0.1496,  0.2805])"
      ]
     },
     "execution_count": 119,
     "metadata": {},
     "output_type": "execute_result"
    }
   ],
   "source": [
    "loss[:,1]"
   ]
  },
  {
   "cell_type": "code",
   "execution_count": 120,
   "metadata": {},
   "outputs": [
    {
     "data": {
      "text/plain": [
       "<matplotlib.collections.PathCollection at 0x11ccdffd0>"
      ]
     },
     "execution_count": 120,
     "metadata": {},
     "output_type": "execute_result"
    },
    {
     "data": {
      "image/png": "[encoded data removed]",
      "text/plain": [
       "<matplotlib.figure.Figure at 0x11ccc81d0>"
      ]
     },
     "metadata": {},
     "output_type": "display_data"
    }
   ],
   "source": [
    "plt.figure(1, figsize=(4, 3))\n",
    "def model(x):\n",
    "    return 1 / (1 + np.exp(-x))\n",
    "\n",
    "loss = model(D*clf.coef_ + clf.intercept_)\n",
    "\n",
    "plt.scatter(D[:,0], loss[:,0], color='red')\n",
    "plt.scatter(D[:,1], loss[:,1], color='blue')"
   ]
  },
  {
   "cell_type": "code",
   "execution_count": 126,
   "metadata": {},
   "outputs": [
    {
     "data": {
      "text/plain": [
       "(862086, 2)"
      ]
     },
     "execution_count": 126,
     "metadata": {},
     "output_type": "execute_result"
    }
   ],
   "source": [
    "clf.predict_proba(D).shape"
   ]
  },
  {
   "cell_type": "code",
   "execution_count": 121,
   "metadata": {},
   "outputs": [
    {
     "ename": "ValueError",
     "evalue": "operands could not be broadcast together with shapes (862086,2) (2,1) ",
     "output_type": "error",
     "traceback": [
      "\u001b[0;31m---------------------------------------------------------------------------\u001b[0m",
      "\u001b[0;31mValueError\u001b[0m                                Traceback (most recent call last)",
      "\u001b[0;32m<ipython-input-121-4959ce5875c0>\u001b[0m in \u001b[0;36m<module>\u001b[0;34m()\u001b[0m\n\u001b[1;32m      1\u001b[0m \u001b[0mplt\u001b[0m\u001b[0;34m.\u001b[0m\u001b[0mfigure\u001b[0m\u001b[0;34m(\u001b[0m\u001b[0mfigsize\u001b[0m\u001b[0;34m=\u001b[0m\u001b[0;34m(\u001b[0m\u001b[0;36m4\u001b[0m\u001b[0;34m,\u001b[0m\u001b[0;36m4\u001b[0m\u001b[0;34m)\u001b[0m\u001b[0;34m)\u001b[0m\u001b[0;34m\u001b[0m\u001b[0m\n\u001b[0;32m----> 2\u001b[0;31m \u001b[0mprob\u001b[0m \u001b[0;34m=\u001b[0m \u001b[0mmodel\u001b[0m\u001b[0;34m(\u001b[0m\u001b[0;34m(\u001b[0m\u001b[0mD\u001b[0m\u001b[0;34m*\u001b[0m\u001b[0mclf\u001b[0m\u001b[0;34m.\u001b[0m\u001b[0mcoef_\u001b[0m\u001b[0;34m.\u001b[0m\u001b[0mT\u001b[0m\u001b[0;34m)\u001b[0m \u001b[0;34m+\u001b[0m \u001b[0mclf\u001b[0m\u001b[0;34m.\u001b[0m\u001b[0mintercept_\u001b[0m\u001b[0;34m)\u001b[0m\u001b[0;34m\u001b[0m\u001b[0m\n\u001b[0m\u001b[1;32m      3\u001b[0m \u001b[0;34m\u001b[0m\u001b[0m\n\u001b[1;32m      4\u001b[0m plt.hist(prob[Y==1],bins=100, range=[0,1], alpha=0.4,\n\u001b[1;32m      5\u001b[0m          histtype='stepfilled',lw=1, normed=1)\n",
      "\u001b[0;31mValueError\u001b[0m: operands could not be broadcast together with shapes (862086,2) (2,1) "
     ]
    },
    {
     "data": {
      "text/plain": [
       "<matplotlib.figure.Figure at 0x11dc3dd10>"
      ]
     },
     "metadata": {},
     "output_type": "display_data"
    }
   ],
   "source": [
    "plt.figure(figsize=(4,4))\n",
    "prob = model((D*clf.coef_.T) + clf.intercept_)\n",
    "\n",
    "plt.hist(prob[Y==1],bins=100, range=[0,1], alpha=0.4,\n",
    "         histtype='stepfilled',lw=1, normed=1)\n",
    "\n",
    "plt.hist(prob[Y==0],bins=100, range=[0,1], alpha=0.4,\n",
    "         histtype='stepfilled',lw=1, normed=1)\n",
    "\n",
    "plt.show()"
   ]
  },
  {
   "cell_type": "code",
   "execution_count": null,
   "metadata": {},
   "outputs": [],
   "source": []
  }
 ],
 "metadata": {
  "kernelspec": {
   "display_name": "Python 2",
   "language": "python",
   "name": "python2"
  },
  "language_info": {
   "codemirror_mode": {
    "name": "ipython",
    "version": 2
   },
   "file_extension": ".py",
   "mimetype": "text/x-python",
   "name": "python",
   "nbconvert_exporter": "python",
   "pygments_lexer": "ipython2",
   "version": "2.7.13"
  }
 },
 "nbformat": 4,
 "nbformat_minor": 2
}
